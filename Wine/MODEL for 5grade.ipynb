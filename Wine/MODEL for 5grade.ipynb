{
 "cells": [
  {
   "cell_type": "code",
   "execution_count": 30,
   "metadata": {},
   "outputs": [],
   "source": [
    "from __future__ import division#, print_function # Imports from __future__ since we're running Python 2\n",
    "import os\n",
    "import numpy as np \n",
    "import pandas as pd\n",
    "import matplotlib.pyplot as plt\n",
    "import seaborn as sns\n",
    "from sklearn.model_selection import train_test_split\n",
    "from sklearn.preprocessing import LabelEncoder\n",
    "from sklearn.linear_model import LogisticRegression\n",
    "from sklearn.svm import LinearSVC, SVC\n",
    "from sklearn.neighbors import KNeighborsClassifier\n",
    "from sklearn.metrics import confusion_matrix, log_loss\n",
    "from scipy.stats import skew\n",
    "from scipy.stats import boxcox\n",
    "%matplotlib inline\n",
    "from matplotlib import rcParams\n",
    "from imblearn.over_sampling import SMOTE\n",
    "rcParams['figure.figsize'] = (15, 7)\n",
    "from sklearn.preprocessing import StandardScaler\n",
    "from sklearn.naive_bayes import GaussianNB\n",
    "from sklearn.naive_bayes import MultinomialNB\n",
    "from sklearn.naive_bayes import BernoulliNB\n",
    "from sklearn.metrics import mean_squared_error\n",
    "from sklearn.metrics import classification_report\n",
    "from sklearn.metrics import confusion_matrix\n",
    "import pandas as pd\n",
    "from sklearn.metrics import accuracy_score"
   ]
  },
  {
   "cell_type": "code",
   "execution_count": 31,
   "metadata": {},
   "outputs": [],
   "source": [
    "from sklearn.ensemble import GradientBoostingClassifier\n",
    "from sklearn.tree import DecisionTreeClassifier\n",
    "from sklearn.ensemble import RandomForestClassifier"
   ]
  },
  {
   "cell_type": "code",
   "execution_count": 32,
   "metadata": {},
   "outputs": [],
   "source": [
    "red = pd.read_csv('/home/pirl/test/Wine data/wine_quality_r_s.csv')\n",
    "red = red.drop('Unnamed: 0',1)"
   ]
  },
  {
   "cell_type": "code",
   "execution_count": 36,
   "metadata": {},
   "outputs": [],
   "source": [
    "quality_mapping = {3:3, 4:4, 5:5, 6:5, 7:6, 8:7}\n",
    "red['quality'] = red['quality'].map(quality_mapping)"
   ]
  },
  {
   "cell_type": "code",
   "execution_count": 37,
   "metadata": {},
   "outputs": [],
   "source": [
    "red_x = red.drop('quality',1)\n",
    "red_y = red['quality']"
   ]
  },
  {
   "cell_type": "code",
   "execution_count": 38,
   "metadata": {},
   "outputs": [],
   "source": [
    "for cur_feat in red_x.columns:\n",
    "    if cur_feat == 'citric acid':\n",
    "        red_x[cur_feat] += 1\n",
    "    red_x[cur_feat] = np.log(red_x[cur_feat])"
   ]
  },
  {
   "cell_type": "code",
   "execution_count": 7,
   "metadata": {},
   "outputs": [],
   "source": [
    "red_h = red[red['quality']>=6]"
   ]
  },
  {
   "cell_type": "code",
   "execution_count": 8,
   "metadata": {},
   "outputs": [],
   "source": [
    "red_m = red[(red['quality']<6)&(red['quality']>4)]"
   ]
  },
  {
   "cell_type": "code",
   "execution_count": 9,
   "metadata": {},
   "outputs": [],
   "source": [
    "red_l = red[red['quality']<=4]"
   ]
  },
  {
   "cell_type": "code",
   "execution_count": 10,
   "metadata": {},
   "outputs": [],
   "source": [
    "red_l2 = pd.concat([red_l,red_l,red_l])"
   ]
  },
  {
   "cell_type": "code",
   "execution_count": 11,
   "metadata": {},
   "outputs": [],
   "source": [
    "red_m = red_m.sample(800)"
   ]
  },
  {
   "cell_type": "code",
   "execution_count": 12,
   "metadata": {},
   "outputs": [],
   "source": [
    "red_h2 = pd.concat([red_h,red_h])\n",
    "red_h2 = red_h2.sample(300)"
   ]
  },
  {
   "cell_type": "code",
   "execution_count": 13,
   "metadata": {},
   "outputs": [],
   "source": [
    "red_sp = pd.concat([red_l2,red_m,red_h2])"
   ]
  },
  {
   "cell_type": "code",
   "execution_count": 14,
   "metadata": {},
   "outputs": [],
   "source": [
    "size = red_sp['quality'].value_counts()\n",
    "size.reindex = [3,4,5,6,7]"
   ]
  },
  {
   "cell_type": "code",
   "execution_count": 15,
   "metadata": {},
   "outputs": [
    {
     "data": {
      "text/plain": [
       "5    800\n",
       "6    277\n",
       "4    156\n",
       "3     30\n",
       "7     23\n",
       "Name: quality, dtype: int64"
      ]
     },
     "execution_count": 15,
     "metadata": {},
     "output_type": "execute_result"
    }
   ],
   "source": [
    "size"
   ]
  },
  {
   "cell_type": "code",
   "execution_count": 16,
   "metadata": {},
   "outputs": [
    {
     "name": "stdout",
     "output_type": "stream",
     "text": [
      "<class 'pandas.core.frame.DataFrame'>\n",
      "Int64Index: 1286 entries, 18 to 1106\n",
      "Data columns (total 12 columns):\n",
      "fixed acidity           1286 non-null float64\n",
      "volatile acidity        1286 non-null float64\n",
      "citric acid             1286 non-null float64\n",
      "residual sugar          1286 non-null float64\n",
      "chlorides               1286 non-null float64\n",
      "free sulfur dioxide     1286 non-null float64\n",
      "total sulfur dioxide    1286 non-null float64\n",
      "density                 1286 non-null float64\n",
      "pH                      1286 non-null float64\n",
      "sulphates               1286 non-null float64\n",
      "alcohol                 1286 non-null float64\n",
      "quality                 1286 non-null int64\n",
      "dtypes: float64(11), int64(1)\n",
      "memory usage: 130.6 KB\n"
     ]
    }
   ],
   "source": [
    "red_sp.info()"
   ]
  },
  {
   "cell_type": "code",
   "execution_count": 17,
   "metadata": {},
   "outputs": [],
   "source": [
    "red_sp_x = red_sp.drop('quality',1)\n",
    "red_sp_y = red_sp['quality']"
   ]
  },
  {
   "cell_type": "code",
   "execution_count": 18,
   "metadata": {
    "scrolled": false
   },
   "outputs": [
    {
     "data": {
      "text/html": [
       "<div>\n",
       "<style scoped>\n",
       "    .dataframe tbody tr th:only-of-type {\n",
       "        vertical-align: middle;\n",
       "    }\n",
       "\n",
       "    .dataframe tbody tr th {\n",
       "        vertical-align: top;\n",
       "    }\n",
       "\n",
       "    .dataframe thead th {\n",
       "        text-align: right;\n",
       "    }\n",
       "</style>\n",
       "<table border=\"1\" class=\"dataframe\">\n",
       "  <thead>\n",
       "    <tr style=\"text-align: right;\">\n",
       "      <th></th>\n",
       "      <th>fixed acidity</th>\n",
       "      <th>volatile acidity</th>\n",
       "      <th>citric acid</th>\n",
       "      <th>residual sugar</th>\n",
       "      <th>chlorides</th>\n",
       "      <th>free sulfur dioxide</th>\n",
       "      <th>total sulfur dioxide</th>\n",
       "      <th>density</th>\n",
       "      <th>pH</th>\n",
       "      <th>sulphates</th>\n",
       "      <th>alcohol</th>\n",
       "    </tr>\n",
       "  </thead>\n",
       "  <tbody>\n",
       "    <tr>\n",
       "      <th>0</th>\n",
       "      <td>-0.539868</td>\n",
       "      <td>0.282212</td>\n",
       "      <td>-0.981021</td>\n",
       "      <td>1.306709</td>\n",
       "      <td>0.004807</td>\n",
       "      <td>-0.860060</td>\n",
       "      <td>-0.427624</td>\n",
       "      <td>0.372766</td>\n",
       "      <td>0.406938</td>\n",
       "      <td>-0.962600</td>\n",
       "      <td>-1.410216</td>\n",
       "    </tr>\n",
       "    <tr>\n",
       "      <th>1</th>\n",
       "      <td>-1.483848</td>\n",
       "      <td>2.967414</td>\n",
       "      <td>-0.931244</td>\n",
       "      <td>-0.761071</td>\n",
       "      <td>1.959421</td>\n",
       "      <td>-0.763150</td>\n",
       "      <td>-0.738087</td>\n",
       "      <td>-1.438920</td>\n",
       "      <td>1.188017</td>\n",
       "      <td>-1.082825</td>\n",
       "      <td>-0.676182</td>\n",
       "    </tr>\n",
       "    <tr>\n",
       "      <th>2</th>\n",
       "      <td>0.237528</td>\n",
       "      <td>0.381664</td>\n",
       "      <td>0.114069</td>\n",
       "      <td>0.165865</td>\n",
       "      <td>0.050263</td>\n",
       "      <td>0.205953</td>\n",
       "      <td>0.100164</td>\n",
       "      <td>0.479336</td>\n",
       "      <td>-0.374140</td>\n",
       "      <td>-0.902487</td>\n",
       "      <td>-1.134953</td>\n",
       "    </tr>\n",
       "    <tr>\n",
       "      <th>3</th>\n",
       "      <td>-2.094659</td>\n",
       "      <td>-0.065870</td>\n",
       "      <td>-0.632583</td>\n",
       "      <td>-0.333254</td>\n",
       "      <td>-0.722491</td>\n",
       "      <td>-0.666239</td>\n",
       "      <td>0.690045</td>\n",
       "      <td>-1.758630</td>\n",
       "      <td>3.791614</td>\n",
       "      <td>-0.601923</td>\n",
       "      <td>2.351707</td>\n",
       "    </tr>\n",
       "    <tr>\n",
       "      <th>4</th>\n",
       "      <td>-0.040113</td>\n",
       "      <td>0.704883</td>\n",
       "      <td>-0.085039</td>\n",
       "      <td>-0.333254</td>\n",
       "      <td>-0.040649</td>\n",
       "      <td>-0.375508</td>\n",
       "      <td>0.007025</td>\n",
       "      <td>0.479336</td>\n",
       "      <td>-0.048691</td>\n",
       "      <td>-0.782261</td>\n",
       "      <td>-1.226707</td>\n",
       "    </tr>\n",
       "  </tbody>\n",
       "</table>\n",
       "</div>"
      ],
      "text/plain": [
       "   fixed acidity  volatile acidity  citric acid  residual sugar  chlorides  \\\n",
       "0      -0.539868          0.282212    -0.981021        1.306709   0.004807   \n",
       "1      -1.483848          2.967414    -0.931244       -0.761071   1.959421   \n",
       "2       0.237528          0.381664     0.114069        0.165865   0.050263   \n",
       "3      -2.094659         -0.065870    -0.632583       -0.333254  -0.722491   \n",
       "4      -0.040113          0.704883    -0.085039       -0.333254  -0.040649   \n",
       "\n",
       "   free sulfur dioxide  total sulfur dioxide   density        pH  sulphates  \\\n",
       "0            -0.860060             -0.427624  0.372766  0.406938  -0.962600   \n",
       "1            -0.763150             -0.738087 -1.438920  1.188017  -1.082825   \n",
       "2             0.205953              0.100164  0.479336 -0.374140  -0.902487   \n",
       "3            -0.666239              0.690045 -1.758630  3.791614  -0.601923   \n",
       "4            -0.375508              0.007025  0.479336 -0.048691  -0.782261   \n",
       "\n",
       "    alcohol  \n",
       "0 -1.410216  \n",
       "1 -0.676182  \n",
       "2 -1.134953  \n",
       "3  2.351707  \n",
       "4 -1.226707  "
      ]
     },
     "execution_count": 18,
     "metadata": {},
     "output_type": "execute_result"
    }
   ],
   "source": [
    "v_feature_name = red_sp_x.columns\n",
    "scaler = StandardScaler()\n",
    "red_sp_s_x = scaler.fit_transform(red_sp_x)\n",
    "red_sp_s_x = pd.DataFrame(red_sp_s_x, columns=v_feature_name)\n",
    "red_sp_s_x.head()"
   ]
  },
  {
   "cell_type": "code",
   "execution_count": 19,
   "metadata": {},
   "outputs": [],
   "source": [
    "train_n_x, test_n_x, train_n_y, test_n_y = train_test_split(red_sp_s_x, red_sp_y, test_size = 0.2,\n",
    "                                                                random_state =42)"
   ]
  },
  {
   "cell_type": "code",
   "execution_count": 20,
   "metadata": {},
   "outputs": [],
   "source": [
    "red_x = red.drop('quality',1)\n",
    "red_y = red['quality']"
   ]
  },
  {
   "cell_type": "code",
   "execution_count": 21,
   "metadata": {},
   "outputs": [],
   "source": [
    "train_x, test_x, train_y, test_y = train_test_split(red_x, red_y, test_size = 0.5,\n",
    "                                                                random_state =1234)"
   ]
  },
  {
   "cell_type": "code",
   "execution_count": 22,
   "metadata": {},
   "outputs": [
    {
     "data": {
      "text/html": [
       "<div>\n",
       "<style scoped>\n",
       "    .dataframe tbody tr th:only-of-type {\n",
       "        vertical-align: middle;\n",
       "    }\n",
       "\n",
       "    .dataframe tbody tr th {\n",
       "        vertical-align: top;\n",
       "    }\n",
       "\n",
       "    .dataframe thead th {\n",
       "        text-align: right;\n",
       "    }\n",
       "</style>\n",
       "<table border=\"1\" class=\"dataframe\">\n",
       "  <thead>\n",
       "    <tr style=\"text-align: right;\">\n",
       "      <th></th>\n",
       "      <th>fixed acidity</th>\n",
       "      <th>volatile acidity</th>\n",
       "      <th>citric acid</th>\n",
       "      <th>residual sugar</th>\n",
       "      <th>chlorides</th>\n",
       "      <th>free sulfur dioxide</th>\n",
       "      <th>total sulfur dioxide</th>\n",
       "      <th>density</th>\n",
       "      <th>pH</th>\n",
       "      <th>sulphates</th>\n",
       "      <th>alcohol</th>\n",
       "    </tr>\n",
       "  </thead>\n",
       "  <tbody>\n",
       "    <tr>\n",
       "      <th>0</th>\n",
       "      <td>-0.080028</td>\n",
       "      <td>-0.844231</td>\n",
       "      <td>1.089943</td>\n",
       "      <td>-0.500262</td>\n",
       "      <td>1.636957</td>\n",
       "      <td>-1.051928</td>\n",
       "      <td>-0.890049</td>\n",
       "      <td>0.464167</td>\n",
       "      <td>-0.116612</td>\n",
       "      <td>2.481746</td>\n",
       "      <td>-0.965829</td>\n",
       "    </tr>\n",
       "    <tr>\n",
       "      <th>1</th>\n",
       "      <td>-0.980622</td>\n",
       "      <td>0.221571</td>\n",
       "      <td>-1.257401</td>\n",
       "      <td>-0.309515</td>\n",
       "      <td>0.665431</td>\n",
       "      <td>-0.958421</td>\n",
       "      <td>-0.919190</td>\n",
       "      <td>-0.087211</td>\n",
       "      <td>0.406465</td>\n",
       "      <td>0.228362</td>\n",
       "      <td>-0.873723</td>\n",
       "    </tr>\n",
       "    <tr>\n",
       "      <th>2</th>\n",
       "      <td>-1.100702</td>\n",
       "      <td>0.221571</td>\n",
       "      <td>-1.257401</td>\n",
       "      <td>-0.500262</td>\n",
       "      <td>-0.444885</td>\n",
       "      <td>-1.145435</td>\n",
       "      <td>-1.064900</td>\n",
       "      <td>0.152066</td>\n",
       "      <td>0.929543</td>\n",
       "      <td>0.165768</td>\n",
       "      <td>-0.873723</td>\n",
       "    </tr>\n",
       "    <tr>\n",
       "      <th>3</th>\n",
       "      <td>2.801875</td>\n",
       "      <td>-1.012515</td>\n",
       "      <td>1.140972</td>\n",
       "      <td>2.043024</td>\n",
       "      <td>-0.468016</td>\n",
       "      <td>-1.051928</td>\n",
       "      <td>-0.365495</td>\n",
       "      <td>2.440804</td>\n",
       "      <td>-0.770459</td>\n",
       "      <td>0.040580</td>\n",
       "      <td>1.428935</td>\n",
       "    </tr>\n",
       "    <tr>\n",
       "      <th>4</th>\n",
       "      <td>0.100091</td>\n",
       "      <td>-0.900325</td>\n",
       "      <td>0.834797</td>\n",
       "      <td>-0.182351</td>\n",
       "      <td>-0.537411</td>\n",
       "      <td>-0.397377</td>\n",
       "      <td>-0.831765</td>\n",
       "      <td>-0.628186</td>\n",
       "      <td>-0.966614</td>\n",
       "      <td>0.979490</td>\n",
       "      <td>0.692085</td>\n",
       "    </tr>\n",
       "  </tbody>\n",
       "</table>\n",
       "</div>"
      ],
      "text/plain": [
       "   fixed acidity  volatile acidity  citric acid  residual sugar  chlorides  \\\n",
       "0      -0.080028         -0.844231     1.089943       -0.500262   1.636957   \n",
       "1      -0.980622          0.221571    -1.257401       -0.309515   0.665431   \n",
       "2      -1.100702          0.221571    -1.257401       -0.500262  -0.444885   \n",
       "3       2.801875         -1.012515     1.140972        2.043024  -0.468016   \n",
       "4       0.100091         -0.900325     0.834797       -0.182351  -0.537411   \n",
       "\n",
       "   free sulfur dioxide  total sulfur dioxide   density        pH  sulphates  \\\n",
       "0            -1.051928             -0.890049  0.464167 -0.116612   2.481746   \n",
       "1            -0.958421             -0.919190 -0.087211  0.406465   0.228362   \n",
       "2            -1.145435             -1.064900  0.152066  0.929543   0.165768   \n",
       "3            -1.051928             -0.365495  2.440804 -0.770459   0.040580   \n",
       "4            -0.397377             -0.831765 -0.628186 -0.966614   0.979490   \n",
       "\n",
       "    alcohol  \n",
       "0 -0.965829  \n",
       "1 -0.873723  \n",
       "2 -0.873723  \n",
       "3  1.428935  \n",
       "4  0.692085  "
      ]
     },
     "execution_count": 22,
     "metadata": {},
     "output_type": "execute_result"
    }
   ],
   "source": [
    "v_feature_name = train_x.columns\n",
    "scaler = StandardScaler()\n",
    "test_s_x = scaler.fit_transform(test_x)\n",
    "test_s_x = pd.DataFrame(test_s_x, columns=v_feature_name)\n",
    "test_s_x.head()"
   ]
  },
  {
   "cell_type": "code",
   "execution_count": 23,
   "metadata": {
    "scrolled": true
   },
   "outputs": [
    {
     "name": "stderr",
     "output_type": "stream",
     "text": [
      "/home/pirl/anaconda3/lib/python3.7/site-packages/sklearn/ensemble/forest.py:245: FutureWarning: The default value of n_estimators will change from 10 in version 0.20 to 100 in 0.22.\n",
      "  \"10 in version 0.20 to 100 in 0.22.\", FutureWarning)\n",
      "/home/pirl/anaconda3/lib/python3.7/site-packages/sklearn/svm/base.py:193: FutureWarning: The default value of gamma will change from 'auto' to 'scale' in version 0.22 to account better for unscaled features. Set gamma explicitly to 'auto' or 'scale' to avoid this warning.\n",
      "  \"avoid this warning.\", FutureWarning)\n"
     ]
    }
   ],
   "source": [
    "decision_tree = DecisionTreeClassifier()\n",
    "decision_tree.fit(train_n_x,train_n_y)\n",
    "tree_pred_t = decision_tree.predict(train_n_x)\n",
    "tree_pred = decision_tree.predict(test_s_x)\n",
    "\n",
    "rf = RandomForestClassifier()\n",
    "rf.fit(train_n_x,train_n_y)\n",
    "rf_pred_t = rf.predict(train_n_x)\n",
    "rf_pred = rf.predict(test_s_x)\n",
    "\n",
    "KN = KNeighborsClassifier()\n",
    "KN.fit(train_n_x,train_n_y)\n",
    "KN_pred_t = KN.predict(train_n_x)\n",
    "KN_pred = KN.predict(test_s_x)\n",
    "\n",
    "Gaussian = GaussianNB()\n",
    "Gaussian.fit(train_n_x,train_n_y)\n",
    "Gaussian_pred_t = Gaussian.predict(train_n_x)\n",
    "Gaussian_pred = Gaussian.predict(test_s_x)\n",
    "\n",
    "svc = SVC()\n",
    "svc.fit(train_n_x,train_n_y)\n",
    "svc_pred_t = svc.predict(train_n_x)\n",
    "svc_pred = svc.predict(test_s_x)"
   ]
  },
  {
   "cell_type": "code",
   "execution_count": 35,
   "metadata": {},
   "outputs": [
    {
     "name": "stdout",
     "output_type": "stream",
     "text": [
      "Decision Tree: 100.0 %\n",
      "Random Forest: 99.31906614785993 %\n",
      "KNeighbors: 82.87937743190662 %\n",
      "GaussianNB: 63.13229571984436 %\n",
      "SVC: 76.84824902723736 %\n"
     ]
    }
   ],
   "source": [
    "print('Decision Tree:', accuracy_score(train_n_y, tree_pred_t)*100,'%')\n",
    "print('Random Forest:', accuracy_score(train_n_y, rf_pred_t)*100,'%')\n",
    "print('KNeighbors:',accuracy_score(train_n_y, KN_pred_t)*100,'%')\n",
    "print('GaussianNB:',accuracy_score(train_n_y, Gaussian_pred_t)*100,'%')\n",
    "print('SVC:',accuracy_score(train_n_y, svc_pred_t)*100,'%')"
   ]
  },
  {
   "cell_type": "code",
   "execution_count": 32,
   "metadata": {
    "scrolled": true
   },
   "outputs": [
    {
     "name": "stdout",
     "output_type": "stream",
     "text": [
      "Decision Tree: 80.22528160200251 %\n",
      "Random Forest: 89.73717146433042 %\n",
      "KNeighbors: 76.34543178973718 %\n",
      "GaussianNB: 63.07884856070088 %\n",
      "SVC: 83.35419274092615 %\n"
     ]
    }
   ],
   "source": [
    "print('Decision Tree:', accuracy_score(test_y, tree_pred)*100,'%')\n",
    "print('Random Forest:', accuracy_score(test_y, rf_pred)*100,'%')\n",
    "print('KNeighbors:',accuracy_score(test_y, KN_pred)*100,'%')\n",
    "print('GaussianNB:',accuracy_score(test_y, Gaussian_pred)*100,'%')\n",
    "print('SVC:',accuracy_score(test_y, svc_pred)*100,'%')"
   ]
  },
  {
   "cell_type": "code",
   "execution_count": null,
   "metadata": {},
   "outputs": [],
   "source": []
  },
  {
   "cell_type": "code",
   "execution_count": null,
   "metadata": {},
   "outputs": [],
   "source": []
  },
  {
   "cell_type": "code",
   "execution_count": 23,
   "metadata": {},
   "outputs": [
    {
     "name": "stdout",
     "output_type": "stream",
     "text": [
      "[[  4   0   0   0   0]\n",
      " [  0  27   1   0   0]\n",
      " [  2  23 609  24   0]\n",
      " [  0   0  13  81   0]\n",
      " [  0   0   4   4   7]]\n"
     ]
    }
   ],
   "source": [
    "print(confusion_matrix(test_y, tree_pred))\n",
    "print('')\n",
    "print(confusion_matrix(test_y, rf_pred))\n",
    "print('')\n",
    "print(confusion_matrix(test_y, KN_pred))\n",
    "print('')\n",
    "print(confusion_matrix(test_y, Gaussian_pred))\n",
    "print('')\n",
    "print(confusion_matrix(test_y, svc_pred))\n"
   ]
  },
  {
   "cell_type": "code",
   "execution_count": 36,
   "metadata": {},
   "outputs": [
    {
     "name": "stdout",
     "output_type": "stream",
     "text": [
      "              precision    recall  f1-score   support\n",
      "\n",
      "     class 3       0.11      0.25      0.15         4\n",
      "     class 4       0.29      0.71      0.41        28\n",
      "     class 5       0.95      0.81      0.87       658\n",
      "     class 6       0.51      0.78      0.62        94\n",
      "     class 7       0.33      0.33      0.33        15\n",
      "\n",
      "    accuracy                           0.79       799\n",
      "   macro avg       0.44      0.58      0.48       799\n",
      "weighted avg       0.86      0.79      0.81       799\n",
      "\n",
      "              precision    recall  f1-score   support\n",
      "\n",
      "     class 3       0.60      0.75      0.67         4\n",
      "     class 4       0.50      0.93      0.65        28\n",
      "     class 5       0.96      0.91      0.93       658\n",
      "     class 6       0.67      0.78      0.72        94\n",
      "     class 7       1.00      0.67      0.80        15\n",
      "\n",
      "    accuracy                           0.89       799\n",
      "   macro avg       0.75      0.81      0.75       799\n",
      "weighted avg       0.91      0.89      0.89       799\n",
      "\n",
      "              precision    recall  f1-score   support\n",
      "\n",
      "     class 3       0.12      0.25      0.17         4\n",
      "     class 4       0.26      0.86      0.40        28\n",
      "     class 5       0.94      0.79      0.86       658\n",
      "     class 6       0.47      0.67      0.55        94\n",
      "     class 7       0.38      0.20      0.26        15\n",
      "\n",
      "    accuracy                           0.76       799\n",
      "   macro avg       0.43      0.55      0.45       799\n",
      "weighted avg       0.84      0.76      0.79       799\n",
      "\n",
      "              precision    recall  f1-score   support\n",
      "\n",
      "     class 3       0.14      0.25      0.18         4\n",
      "     class 4       0.14      0.68      0.23        28\n",
      "     class 5       0.94      0.63      0.75       658\n",
      "     class 6       0.35      0.74      0.47        94\n",
      "     class 7       0.14      0.13      0.14        15\n",
      "\n",
      "    accuracy                           0.63       799\n",
      "   macro avg       0.34      0.49      0.35       799\n",
      "weighted avg       0.82      0.63      0.69       799\n",
      "\n",
      "              precision    recall  f1-score   support\n",
      "\n",
      "     class 3       0.00      0.00      0.00         4\n",
      "     class 4       0.43      0.68      0.53        28\n",
      "     class 5       0.92      0.89      0.91       658\n",
      "     class 6       0.51      0.65      0.57        94\n",
      "     class 7       0.00      0.00      0.00        15\n",
      "\n",
      "    accuracy                           0.83       799\n",
      "   macro avg       0.37      0.44      0.40       799\n",
      "weighted avg       0.84      0.83      0.83       799\n",
      "\n"
     ]
    },
    {
     "name": "stderr",
     "output_type": "stream",
     "text": [
      "/home/pirl/anaconda3/lib/python3.7/site-packages/sklearn/metrics/classification.py:1437: UndefinedMetricWarning: Precision and F-score are ill-defined and being set to 0.0 in labels with no predicted samples.\n",
      "  'precision', 'predicted', average, warn_for)\n",
      "/home/pirl/anaconda3/lib/python3.7/site-packages/sklearn/metrics/classification.py:1437: UndefinedMetricWarning: Precision and F-score are ill-defined and being set to 0.0 in labels with no predicted samples.\n",
      "  'precision', 'predicted', average, warn_for)\n",
      "/home/pirl/anaconda3/lib/python3.7/site-packages/sklearn/metrics/classification.py:1437: UndefinedMetricWarning: Precision and F-score are ill-defined and being set to 0.0 in labels with no predicted samples.\n",
      "  'precision', 'predicted', average, warn_for)\n"
     ]
    }
   ],
   "source": [
    "from sklearn.metrics import classification_report\n",
    "print(classification_report(test_y, tree_pred, target_names=['class 3', 'class 4', 'class 5', 'class 6', 'class 7']))\n",
    "print(classification_report(test_y, rf_pred, target_names=['class 3', 'class 4', 'class 5', 'class 6', 'class 7']))\n",
    "print(classification_report(test_y, KN_pred, target_names=['class 3', 'class 4', 'class 5', 'class 6', 'class 7']))\n",
    "print(classification_report(test_y, Gaussian_pred, target_names=['class 3', 'class 4', 'class 5', 'class 6', 'class 7']))\n",
    "print(classification_report(test_y, svc_pred, target_names=['class 3', 'class 4', 'class 5', 'class 6', 'class 7']))"
   ]
  },
  {
   "cell_type": "code",
   "execution_count": 25,
   "metadata": {},
   "outputs": [
    {
     "data": {
      "text/html": [
       "<div>\n",
       "<style scoped>\n",
       "    .dataframe tbody tr th:only-of-type {\n",
       "        vertical-align: middle;\n",
       "    }\n",
       "\n",
       "    .dataframe tbody tr th {\n",
       "        vertical-align: top;\n",
       "    }\n",
       "\n",
       "    .dataframe thead th {\n",
       "        text-align: right;\n",
       "    }\n",
       "</style>\n",
       "<table border=\"1\" class=\"dataframe\">\n",
       "  <thead>\n",
       "    <tr style=\"text-align: right;\">\n",
       "      <th></th>\n",
       "      <th>n_estimators</th>\n",
       "      <th>TrainScore</th>\n",
       "      <th>validationscore</th>\n",
       "    </tr>\n",
       "  </thead>\n",
       "  <tbody>\n",
       "    <tr>\n",
       "      <th>0</th>\n",
       "      <td>10</td>\n",
       "      <td>0.991</td>\n",
       "      <td>0.876</td>\n",
       "    </tr>\n",
       "    <tr>\n",
       "      <th>1</th>\n",
       "      <td>20</td>\n",
       "      <td>0.997</td>\n",
       "      <td>0.907</td>\n",
       "    </tr>\n",
       "    <tr>\n",
       "      <th>2</th>\n",
       "      <td>30</td>\n",
       "      <td>0.999</td>\n",
       "      <td>0.911</td>\n",
       "    </tr>\n",
       "    <tr>\n",
       "      <th>3</th>\n",
       "      <td>40</td>\n",
       "      <td>1.000</td>\n",
       "      <td>0.922</td>\n",
       "    </tr>\n",
       "    <tr>\n",
       "      <th>4</th>\n",
       "      <td>50</td>\n",
       "      <td>1.000</td>\n",
       "      <td>0.922</td>\n",
       "    </tr>\n",
       "    <tr>\n",
       "      <th>5</th>\n",
       "      <td>60</td>\n",
       "      <td>1.000</td>\n",
       "      <td>0.919</td>\n",
       "    </tr>\n",
       "    <tr>\n",
       "      <th>6</th>\n",
       "      <td>70</td>\n",
       "      <td>1.000</td>\n",
       "      <td>0.922</td>\n",
       "    </tr>\n",
       "    <tr>\n",
       "      <th>7</th>\n",
       "      <td>80</td>\n",
       "      <td>1.000</td>\n",
       "      <td>0.919</td>\n",
       "    </tr>\n",
       "    <tr>\n",
       "      <th>8</th>\n",
       "      <td>90</td>\n",
       "      <td>1.000</td>\n",
       "      <td>0.926</td>\n",
       "    </tr>\n",
       "    <tr>\n",
       "      <th>9</th>\n",
       "      <td>100</td>\n",
       "      <td>1.000</td>\n",
       "      <td>0.926</td>\n",
       "    </tr>\n",
       "    <tr>\n",
       "      <th>10</th>\n",
       "      <td>110</td>\n",
       "      <td>1.000</td>\n",
       "      <td>0.930</td>\n",
       "    </tr>\n",
       "    <tr>\n",
       "      <th>11</th>\n",
       "      <td>120</td>\n",
       "      <td>1.000</td>\n",
       "      <td>0.926</td>\n",
       "    </tr>\n",
       "    <tr>\n",
       "      <th>12</th>\n",
       "      <td>130</td>\n",
       "      <td>1.000</td>\n",
       "      <td>0.922</td>\n",
       "    </tr>\n",
       "    <tr>\n",
       "      <th>13</th>\n",
       "      <td>140</td>\n",
       "      <td>1.000</td>\n",
       "      <td>0.926</td>\n",
       "    </tr>\n",
       "    <tr>\n",
       "      <th>14</th>\n",
       "      <td>150</td>\n",
       "      <td>1.000</td>\n",
       "      <td>0.930</td>\n",
       "    </tr>\n",
       "    <tr>\n",
       "      <th>15</th>\n",
       "      <td>160</td>\n",
       "      <td>1.000</td>\n",
       "      <td>0.922</td>\n",
       "    </tr>\n",
       "    <tr>\n",
       "      <th>16</th>\n",
       "      <td>170</td>\n",
       "      <td>1.000</td>\n",
       "      <td>0.926</td>\n",
       "    </tr>\n",
       "    <tr>\n",
       "      <th>17</th>\n",
       "      <td>180</td>\n",
       "      <td>1.000</td>\n",
       "      <td>0.930</td>\n",
       "    </tr>\n",
       "    <tr>\n",
       "      <th>18</th>\n",
       "      <td>190</td>\n",
       "      <td>1.000</td>\n",
       "      <td>0.934</td>\n",
       "    </tr>\n",
       "    <tr>\n",
       "      <th>19</th>\n",
       "      <td>200</td>\n",
       "      <td>1.000</td>\n",
       "      <td>0.934</td>\n",
       "    </tr>\n",
       "    <tr>\n",
       "      <th>20</th>\n",
       "      <td>210</td>\n",
       "      <td>1.000</td>\n",
       "      <td>0.934</td>\n",
       "    </tr>\n",
       "    <tr>\n",
       "      <th>21</th>\n",
       "      <td>220</td>\n",
       "      <td>1.000</td>\n",
       "      <td>0.934</td>\n",
       "    </tr>\n",
       "    <tr>\n",
       "      <th>22</th>\n",
       "      <td>230</td>\n",
       "      <td>1.000</td>\n",
       "      <td>0.934</td>\n",
       "    </tr>\n",
       "    <tr>\n",
       "      <th>23</th>\n",
       "      <td>240</td>\n",
       "      <td>1.000</td>\n",
       "      <td>0.930</td>\n",
       "    </tr>\n",
       "    <tr>\n",
       "      <th>24</th>\n",
       "      <td>250</td>\n",
       "      <td>1.000</td>\n",
       "      <td>0.930</td>\n",
       "    </tr>\n",
       "    <tr>\n",
       "      <th>25</th>\n",
       "      <td>260</td>\n",
       "      <td>1.000</td>\n",
       "      <td>0.926</td>\n",
       "    </tr>\n",
       "    <tr>\n",
       "      <th>26</th>\n",
       "      <td>270</td>\n",
       "      <td>1.000</td>\n",
       "      <td>0.926</td>\n",
       "    </tr>\n",
       "    <tr>\n",
       "      <th>27</th>\n",
       "      <td>280</td>\n",
       "      <td>1.000</td>\n",
       "      <td>0.930</td>\n",
       "    </tr>\n",
       "    <tr>\n",
       "      <th>28</th>\n",
       "      <td>290</td>\n",
       "      <td>1.000</td>\n",
       "      <td>0.930</td>\n",
       "    </tr>\n",
       "  </tbody>\n",
       "</table>\n",
       "</div>"
      ],
      "text/plain": [
       "    n_estimators  TrainScore  validationscore\n",
       "0             10       0.991            0.876\n",
       "1             20       0.997            0.907\n",
       "2             30       0.999            0.911\n",
       "3             40       1.000            0.922\n",
       "4             50       1.000            0.922\n",
       "5             60       1.000            0.919\n",
       "6             70       1.000            0.922\n",
       "7             80       1.000            0.919\n",
       "8             90       1.000            0.926\n",
       "9            100       1.000            0.926\n",
       "10           110       1.000            0.930\n",
       "11           120       1.000            0.926\n",
       "12           130       1.000            0.922\n",
       "13           140       1.000            0.926\n",
       "14           150       1.000            0.930\n",
       "15           160       1.000            0.922\n",
       "16           170       1.000            0.926\n",
       "17           180       1.000            0.930\n",
       "18           190       1.000            0.934\n",
       "19           200       1.000            0.934\n",
       "20           210       1.000            0.934\n",
       "21           220       1.000            0.934\n",
       "22           230       1.000            0.934\n",
       "23           240       1.000            0.930\n",
       "24           250       1.000            0.930\n",
       "25           260       1.000            0.926\n",
       "26           270       1.000            0.926\n",
       "27           280       1.000            0.930\n",
       "28           290       1.000            0.930"
      ]
     },
     "execution_count": 25,
     "metadata": {},
     "output_type": "execute_result"
    }
   ],
   "source": [
    "train_score = []; test_score = []\n",
    "para_n_tree = [n_tree*10 for n_tree in range(1,30)]\n",
    "\n",
    "for v_n_estimators in para_n_tree:\n",
    "    rf = RandomForestClassifier(random_state = 1234, n_estimators = v_n_estimators)\n",
    "    rf.fit(train_n_x,train_n_y)\n",
    "    train_score.append(rf.score(train_n_x,train_n_y))\n",
    "    test_score.append(rf.score(test_n_x, test_n_y))\n",
    "\n",
    "df_score_tree = pd.DataFrame()\n",
    "df_score_tree[\"n_estimators\"] = para_n_tree\n",
    "df_score_tree[\"TrainScore\"] = train_score\n",
    "df_score_tree[\"validationscore\"] = test_score\n",
    "df_score_tree.round(3) #트리 개수에 따른 트레인 셋 스코어와 밸리데이션 셋 스코어 비교"
   ]
  },
  {
   "cell_type": "code",
   "execution_count": 26,
   "metadata": {},
   "outputs": [
    {
     "data": {
      "text/plain": [
       "<matplotlib.legend.Legend at 0x7f596b4b7d68>"
      ]
     },
     "execution_count": 26,
     "metadata": {},
     "output_type": "execute_result"
    },
    {
     "data": {
      "image/png": "[encoded data removed]",
      "text/plain": [
       "<Figure size 432x288 with 1 Axes>"
      ]
     },
     "metadata": {
      "needs_background": "light"
     },
     "output_type": "display_data"
    }
   ],
   "source": [
    "plt.plot(para_n_tree, train_score, linestyle = \"-\", label = \"Train Score\")\n",
    "plt.plot(para_n_tree, test_score, linestyle = \"--\", label = \"Validation Score\")\n",
    "plt.ylabel(\"score\"); plt.xlabel(\"tree\")\n",
    "plt.legend() #트리 개수에 따른 트레인 셋 스코어와 밸리데이션 셋 스코어 그래프 비교"
   ]
  },
  {
   "cell_type": "code",
   "execution_count": 27,
   "metadata": {},
   "outputs": [
    {
     "name": "stderr",
     "output_type": "stream",
     "text": [
      "/home/pirl/anaconda3/lib/python3.7/site-packages/sklearn/ensemble/forest.py:460: UserWarning: Some inputs do not have OOB scores. This probably means too few trees were used to compute any reliable oob estimates.\n",
      "  warn(\"Some inputs do not have OOB scores. \"\n",
      "/home/pirl/anaconda3/lib/python3.7/site-packages/sklearn/ensemble/forest.py:465: RuntimeWarning: invalid value encountered in true_divide\n",
      "  predictions[k].sum(axis=1)[:, np.newaxis])\n",
      "/home/pirl/anaconda3/lib/python3.7/site-packages/sklearn/ensemble/forest.py:460: UserWarning: Some inputs do not have OOB scores. This probably means too few trees were used to compute any reliable oob estimates.\n",
      "  warn(\"Some inputs do not have OOB scores. \"\n",
      "/home/pirl/anaconda3/lib/python3.7/site-packages/sklearn/ensemble/forest.py:465: RuntimeWarning: invalid value encountered in true_divide\n",
      "  predictions[k].sum(axis=1)[:, np.newaxis])\n",
      "/home/pirl/anaconda3/lib/python3.7/site-packages/sklearn/ensemble/forest.py:460: UserWarning: Some inputs do not have OOB scores. This probably means too few trees were used to compute any reliable oob estimates.\n",
      "  warn(\"Some inputs do not have OOB scores. \"\n",
      "/home/pirl/anaconda3/lib/python3.7/site-packages/sklearn/ensemble/forest.py:465: RuntimeWarning: invalid value encountered in true_divide\n",
      "  predictions[k].sum(axis=1)[:, np.newaxis])\n",
      "/home/pirl/anaconda3/lib/python3.7/site-packages/sklearn/ensemble/forest.py:460: UserWarning: Some inputs do not have OOB scores. This probably means too few trees were used to compute any reliable oob estimates.\n",
      "  warn(\"Some inputs do not have OOB scores. \"\n",
      "/home/pirl/anaconda3/lib/python3.7/site-packages/sklearn/ensemble/forest.py:465: RuntimeWarning: invalid value encountered in true_divide\n",
      "  predictions[k].sum(axis=1)[:, np.newaxis])\n",
      "/home/pirl/anaconda3/lib/python3.7/site-packages/sklearn/ensemble/forest.py:460: UserWarning: Some inputs do not have OOB scores. This probably means too few trees were used to compute any reliable oob estimates.\n",
      "  warn(\"Some inputs do not have OOB scores. \"\n",
      "/home/pirl/anaconda3/lib/python3.7/site-packages/sklearn/ensemble/forest.py:465: RuntimeWarning: invalid value encountered in true_divide\n",
      "  predictions[k].sum(axis=1)[:, np.newaxis])\n",
      "/home/pirl/anaconda3/lib/python3.7/site-packages/sklearn/ensemble/forest.py:460: UserWarning: Some inputs do not have OOB scores. This probably means too few trees were used to compute any reliable oob estimates.\n",
      "  warn(\"Some inputs do not have OOB scores. \"\n",
      "/home/pirl/anaconda3/lib/python3.7/site-packages/sklearn/ensemble/forest.py:465: RuntimeWarning: invalid value encountered in true_divide\n",
      "  predictions[k].sum(axis=1)[:, np.newaxis])\n",
      "/home/pirl/anaconda3/lib/python3.7/site-packages/sklearn/ensemble/forest.py:460: UserWarning: Some inputs do not have OOB scores. This probably means too few trees were used to compute any reliable oob estimates.\n",
      "  warn(\"Some inputs do not have OOB scores. \"\n",
      "/home/pirl/anaconda3/lib/python3.7/site-packages/sklearn/ensemble/forest.py:465: RuntimeWarning: invalid value encountered in true_divide\n",
      "  predictions[k].sum(axis=1)[:, np.newaxis])\n",
      "/home/pirl/anaconda3/lib/python3.7/site-packages/sklearn/ensemble/forest.py:460: UserWarning: Some inputs do not have OOB scores. This probably means too few trees were used to compute any reliable oob estimates.\n",
      "  warn(\"Some inputs do not have OOB scores. \"\n",
      "/home/pirl/anaconda3/lib/python3.7/site-packages/sklearn/ensemble/forest.py:465: RuntimeWarning: invalid value encountered in true_divide\n",
      "  predictions[k].sum(axis=1)[:, np.newaxis])\n",
      "/home/pirl/anaconda3/lib/python3.7/site-packages/sklearn/ensemble/forest.py:460: UserWarning: Some inputs do not have OOB scores. This probably means too few trees were used to compute any reliable oob estimates.\n",
      "  warn(\"Some inputs do not have OOB scores. \"\n",
      "/home/pirl/anaconda3/lib/python3.7/site-packages/sklearn/ensemble/forest.py:465: RuntimeWarning: invalid value encountered in true_divide\n",
      "  predictions[k].sum(axis=1)[:, np.newaxis])\n",
      "/home/pirl/anaconda3/lib/python3.7/site-packages/sklearn/ensemble/forest.py:460: UserWarning: Some inputs do not have OOB scores. This probably means too few trees were used to compute any reliable oob estimates.\n",
      "  warn(\"Some inputs do not have OOB scores. \"\n",
      "/home/pirl/anaconda3/lib/python3.7/site-packages/sklearn/ensemble/forest.py:465: RuntimeWarning: invalid value encountered in true_divide\n",
      "  predictions[k].sum(axis=1)[:, np.newaxis])\n",
      "/home/pirl/anaconda3/lib/python3.7/site-packages/sklearn/ensemble/forest.py:460: UserWarning: Some inputs do not have OOB scores. This probably means too few trees were used to compute any reliable oob estimates.\n",
      "  warn(\"Some inputs do not have OOB scores. \"\n",
      "/home/pirl/anaconda3/lib/python3.7/site-packages/sklearn/ensemble/forest.py:465: RuntimeWarning: invalid value encountered in true_divide\n",
      "  predictions[k].sum(axis=1)[:, np.newaxis])\n",
      "/home/pirl/anaconda3/lib/python3.7/site-packages/sklearn/ensemble/forest.py:460: UserWarning: Some inputs do not have OOB scores. This probably means too few trees were used to compute any reliable oob estimates.\n",
      "  warn(\"Some inputs do not have OOB scores. \"\n",
      "/home/pirl/anaconda3/lib/python3.7/site-packages/sklearn/ensemble/forest.py:465: RuntimeWarning: invalid value encountered in true_divide\n",
      "  predictions[k].sum(axis=1)[:, np.newaxis])\n",
      "/home/pirl/anaconda3/lib/python3.7/site-packages/sklearn/ensemble/forest.py:460: UserWarning: Some inputs do not have OOB scores. This probably means too few trees were used to compute any reliable oob estimates.\n",
      "  warn(\"Some inputs do not have OOB scores. \"\n",
      "/home/pirl/anaconda3/lib/python3.7/site-packages/sklearn/ensemble/forest.py:465: RuntimeWarning: invalid value encountered in true_divide\n",
      "  predictions[k].sum(axis=1)[:, np.newaxis])\n",
      "/home/pirl/anaconda3/lib/python3.7/site-packages/sklearn/ensemble/forest.py:460: UserWarning: Some inputs do not have OOB scores. This probably means too few trees were used to compute any reliable oob estimates.\n",
      "  warn(\"Some inputs do not have OOB scores. \"\n",
      "/home/pirl/anaconda3/lib/python3.7/site-packages/sklearn/ensemble/forest.py:465: RuntimeWarning: invalid value encountered in true_divide\n",
      "  predictions[k].sum(axis=1)[:, np.newaxis])\n",
      "/home/pirl/anaconda3/lib/python3.7/site-packages/sklearn/ensemble/forest.py:460: UserWarning: Some inputs do not have OOB scores. This probably means too few trees were used to compute any reliable oob estimates.\n",
      "  warn(\"Some inputs do not have OOB scores. \"\n",
      "/home/pirl/anaconda3/lib/python3.7/site-packages/sklearn/ensemble/forest.py:465: RuntimeWarning: invalid value encountered in true_divide\n",
      "  predictions[k].sum(axis=1)[:, np.newaxis])\n"
     ]
    }
   ],
   "source": [
    "oob_error=[]\n",
    "    \n",
    "for v_n_estimator in range(1,151):\n",
    "    rf = RandomForestClassifier(n_estimators = v_n_estimator, oob_score = True, random_state = 1234)\n",
    "    rf.fit(red_sp_s_x, red_sp_y)\n",
    "    oob_error.append(1-rf.oob_score_)\n",
    "    \n",
    "# 트리 개수에 따른 oob 확인"
   ]
  },
  {
   "cell_type": "code",
   "execution_count": 28,
   "metadata": {},
   "outputs": [
    {
     "data": {
      "text/plain": [
       "Text(0.5, 0, 'n_estimators')"
      ]
     },
     "execution_count": 28,
     "metadata": {},
     "output_type": "execute_result"
    },
    {
     "data": {
      "image/png": "[encoded data removed]",
      "text/plain": [
       "<Figure size 432x288 with 1 Axes>"
      ]
     },
     "metadata": {
      "needs_background": "light"
     },
     "output_type": "display_data"
    }
   ],
   "source": [
    "plt.plot(range(1,151),oob_error)\n",
    "plt.ylabel(\"oob_error\")\n",
    "plt.xlabel(\"n_estimators\")\n",
    "# 트리 개수에 따른 oob 확인// 트리 개수가 늘어남에 따라 에러가 줄어듬. 35개 정도에서 가장 낮은 에러."
   ]
  },
  {
   "cell_type": "code",
   "execution_count": 29,
   "metadata": {},
   "outputs": [
    {
     "data": {
      "text/html": [
       "<div>\n",
       "<style scoped>\n",
       "    .dataframe tbody tr th:only-of-type {\n",
       "        vertical-align: middle;\n",
       "    }\n",
       "\n",
       "    .dataframe tbody tr th {\n",
       "        vertical-align: top;\n",
       "    }\n",
       "\n",
       "    .dataframe thead th {\n",
       "        text-align: right;\n",
       "    }\n",
       "</style>\n",
       "<table border=\"1\" class=\"dataframe\">\n",
       "  <thead>\n",
       "    <tr style=\"text-align: right;\">\n",
       "      <th></th>\n",
       "      <th>Depth</th>\n",
       "      <th>TrainScore</th>\n",
       "      <th>Validationscore</th>\n",
       "    </tr>\n",
       "  </thead>\n",
       "  <tbody>\n",
       "    <tr>\n",
       "      <th>0</th>\n",
       "      <td>2</td>\n",
       "      <td>0.663</td>\n",
       "      <td>0.702</td>\n",
       "    </tr>\n",
       "    <tr>\n",
       "      <th>1</th>\n",
       "      <td>4</td>\n",
       "      <td>0.750</td>\n",
       "      <td>0.748</td>\n",
       "    </tr>\n",
       "    <tr>\n",
       "      <th>2</th>\n",
       "      <td>6</td>\n",
       "      <td>0.854</td>\n",
       "      <td>0.783</td>\n",
       "    </tr>\n",
       "    <tr>\n",
       "      <th>3</th>\n",
       "      <td>8</td>\n",
       "      <td>0.947</td>\n",
       "      <td>0.868</td>\n",
       "    </tr>\n",
       "    <tr>\n",
       "      <th>4</th>\n",
       "      <td>10</td>\n",
       "      <td>0.986</td>\n",
       "      <td>0.919</td>\n",
       "    </tr>\n",
       "    <tr>\n",
       "      <th>5</th>\n",
       "      <td>12</td>\n",
       "      <td>0.996</td>\n",
       "      <td>0.930</td>\n",
       "    </tr>\n",
       "    <tr>\n",
       "      <th>6</th>\n",
       "      <td>14</td>\n",
       "      <td>1.000</td>\n",
       "      <td>0.938</td>\n",
       "    </tr>\n",
       "    <tr>\n",
       "      <th>7</th>\n",
       "      <td>16</td>\n",
       "      <td>1.000</td>\n",
       "      <td>0.915</td>\n",
       "    </tr>\n",
       "    <tr>\n",
       "      <th>8</th>\n",
       "      <td>18</td>\n",
       "      <td>1.000</td>\n",
       "      <td>0.926</td>\n",
       "    </tr>\n",
       "    <tr>\n",
       "      <th>9</th>\n",
       "      <td>20</td>\n",
       "      <td>1.000</td>\n",
       "      <td>0.926</td>\n",
       "    </tr>\n",
       "    <tr>\n",
       "      <th>10</th>\n",
       "      <td>22</td>\n",
       "      <td>1.000</td>\n",
       "      <td>0.926</td>\n",
       "    </tr>\n",
       "    <tr>\n",
       "      <th>11</th>\n",
       "      <td>24</td>\n",
       "      <td>1.000</td>\n",
       "      <td>0.926</td>\n",
       "    </tr>\n",
       "    <tr>\n",
       "      <th>12</th>\n",
       "      <td>26</td>\n",
       "      <td>1.000</td>\n",
       "      <td>0.926</td>\n",
       "    </tr>\n",
       "    <tr>\n",
       "      <th>13</th>\n",
       "      <td>28</td>\n",
       "      <td>1.000</td>\n",
       "      <td>0.926</td>\n",
       "    </tr>\n",
       "  </tbody>\n",
       "</table>\n",
       "</div>"
      ],
      "text/plain": [
       "    Depth  TrainScore  Validationscore\n",
       "0       2       0.663            0.702\n",
       "1       4       0.750            0.748\n",
       "2       6       0.854            0.783\n",
       "3       8       0.947            0.868\n",
       "4      10       0.986            0.919\n",
       "5      12       0.996            0.930\n",
       "6      14       1.000            0.938\n",
       "7      16       1.000            0.915\n",
       "8      18       1.000            0.926\n",
       "9      20       1.000            0.926\n",
       "10     22       1.000            0.926\n",
       "11     24       1.000            0.926\n",
       "12     26       1.000            0.926\n",
       "13     28       1.000            0.926"
      ]
     },
     "execution_count": 29,
     "metadata": {},
     "output_type": "execute_result"
    }
   ],
   "source": [
    "train_score = []; test_score = []\n",
    "para_depth = [depth*2 for depth in range(1,15)]\n",
    "\n",
    "for v_max_depth in para_depth:\n",
    "    rf = RandomForestClassifier(random_state = 1234,n_estimators = 100, max_depth = v_max_depth)\n",
    "    rf.fit(train_n_x,train_n_y)\n",
    "    train_score.append(rf.score(train_n_x,train_n_y))\n",
    "    test_score.append(rf.score(test_n_x, test_n_y))\n",
    "\n",
    "df_score_depth = pd.DataFrame()\n",
    "df_score_depth[\"Depth\"] = para_depth\n",
    "df_score_depth[\"TrainScore\"] = train_score\n",
    "df_score_depth[\"Validationscore\"] = test_score\n",
    "df_score_depth.round(3)"
   ]
  },
  {
   "cell_type": "code",
   "execution_count": 30,
   "metadata": {},
   "outputs": [
    {
     "data": {
      "text/plain": [
       "<matplotlib.legend.Legend at 0x7f596b347c88>"
      ]
     },
     "execution_count": 30,
     "metadata": {},
     "output_type": "execute_result"
    },
    {
     "data": {
      "image/png": "[encoded data removed]",
      "text/plain": [
       "<Figure size 432x288 with 1 Axes>"
      ]
     },
     "metadata": {
      "needs_background": "light"
     },
     "output_type": "display_data"
    }
   ],
   "source": [
    "plt.plot(para_depth, train_score, linestyle = \"-\", label = \"Train Score\")\n",
    "plt.plot(para_depth, test_score, linestyle = \"--\", label = \"Validation Score\")\n",
    "plt.legend()"
   ]
  },
  {
   "cell_type": "code",
   "execution_count": 31,
   "metadata": {},
   "outputs": [
    {
     "data": {
      "text/html": [
       "<div>\n",
       "<style scoped>\n",
       "    .dataframe tbody tr th:only-of-type {\n",
       "        vertical-align: middle;\n",
       "    }\n",
       "\n",
       "    .dataframe tbody tr th {\n",
       "        vertical-align: top;\n",
       "    }\n",
       "\n",
       "    .dataframe thead th {\n",
       "        text-align: right;\n",
       "    }\n",
       "</style>\n",
       "<table border=\"1\" class=\"dataframe\">\n",
       "  <thead>\n",
       "    <tr style=\"text-align: right;\">\n",
       "      <th></th>\n",
       "      <th>MinSamplesSplit</th>\n",
       "      <th>TrainScore</th>\n",
       "      <th>Validationscore</th>\n",
       "    </tr>\n",
       "  </thead>\n",
       "  <tbody>\n",
       "    <tr>\n",
       "      <th>0</th>\n",
       "      <td>2</td>\n",
       "      <td>1.000</td>\n",
       "      <td>0.915</td>\n",
       "    </tr>\n",
       "    <tr>\n",
       "      <th>1</th>\n",
       "      <td>3</td>\n",
       "      <td>1.000</td>\n",
       "      <td>0.950</td>\n",
       "    </tr>\n",
       "    <tr>\n",
       "      <th>2</th>\n",
       "      <td>4</td>\n",
       "      <td>0.998</td>\n",
       "      <td>0.926</td>\n",
       "    </tr>\n",
       "    <tr>\n",
       "      <th>3</th>\n",
       "      <td>5</td>\n",
       "      <td>0.995</td>\n",
       "      <td>0.907</td>\n",
       "    </tr>\n",
       "    <tr>\n",
       "      <th>4</th>\n",
       "      <td>6</td>\n",
       "      <td>0.989</td>\n",
       "      <td>0.911</td>\n",
       "    </tr>\n",
       "    <tr>\n",
       "      <th>5</th>\n",
       "      <td>7</td>\n",
       "      <td>0.988</td>\n",
       "      <td>0.903</td>\n",
       "    </tr>\n",
       "    <tr>\n",
       "      <th>6</th>\n",
       "      <td>8</td>\n",
       "      <td>0.980</td>\n",
       "      <td>0.888</td>\n",
       "    </tr>\n",
       "    <tr>\n",
       "      <th>7</th>\n",
       "      <td>9</td>\n",
       "      <td>0.973</td>\n",
       "      <td>0.872</td>\n",
       "    </tr>\n",
       "    <tr>\n",
       "      <th>8</th>\n",
       "      <td>10</td>\n",
       "      <td>0.970</td>\n",
       "      <td>0.864</td>\n",
       "    </tr>\n",
       "    <tr>\n",
       "      <th>9</th>\n",
       "      <td>11</td>\n",
       "      <td>0.966</td>\n",
       "      <td>0.868</td>\n",
       "    </tr>\n",
       "    <tr>\n",
       "      <th>10</th>\n",
       "      <td>12</td>\n",
       "      <td>0.961</td>\n",
       "      <td>0.860</td>\n",
       "    </tr>\n",
       "    <tr>\n",
       "      <th>11</th>\n",
       "      <td>13</td>\n",
       "      <td>0.961</td>\n",
       "      <td>0.864</td>\n",
       "    </tr>\n",
       "    <tr>\n",
       "      <th>12</th>\n",
       "      <td>14</td>\n",
       "      <td>0.954</td>\n",
       "      <td>0.849</td>\n",
       "    </tr>\n",
       "    <tr>\n",
       "      <th>13</th>\n",
       "      <td>15</td>\n",
       "      <td>0.946</td>\n",
       "      <td>0.845</td>\n",
       "    </tr>\n",
       "    <tr>\n",
       "      <th>14</th>\n",
       "      <td>16</td>\n",
       "      <td>0.945</td>\n",
       "      <td>0.837</td>\n",
       "    </tr>\n",
       "    <tr>\n",
       "      <th>15</th>\n",
       "      <td>17</td>\n",
       "      <td>0.937</td>\n",
       "      <td>0.837</td>\n",
       "    </tr>\n",
       "    <tr>\n",
       "      <th>16</th>\n",
       "      <td>18</td>\n",
       "      <td>0.928</td>\n",
       "      <td>0.826</td>\n",
       "    </tr>\n",
       "    <tr>\n",
       "      <th>17</th>\n",
       "      <td>19</td>\n",
       "      <td>0.924</td>\n",
       "      <td>0.829</td>\n",
       "    </tr>\n",
       "    <tr>\n",
       "      <th>18</th>\n",
       "      <td>20</td>\n",
       "      <td>0.906</td>\n",
       "      <td>0.810</td>\n",
       "    </tr>\n",
       "  </tbody>\n",
       "</table>\n",
       "</div>"
      ],
      "text/plain": [
       "    MinSamplesSplit  TrainScore  Validationscore\n",
       "0                 2       1.000            0.915\n",
       "1                 3       1.000            0.950\n",
       "2                 4       0.998            0.926\n",
       "3                 5       0.995            0.907\n",
       "4                 6       0.989            0.911\n",
       "5                 7       0.988            0.903\n",
       "6                 8       0.980            0.888\n",
       "7                 9       0.973            0.872\n",
       "8                10       0.970            0.864\n",
       "9                11       0.966            0.868\n",
       "10               12       0.961            0.860\n",
       "11               13       0.961            0.864\n",
       "12               14       0.954            0.849\n",
       "13               15       0.946            0.845\n",
       "14               16       0.945            0.837\n",
       "15               17       0.937            0.837\n",
       "16               18       0.928            0.826\n",
       "17               19       0.924            0.829\n",
       "18               20       0.906            0.810"
      ]
     },
     "execution_count": 31,
     "metadata": {},
     "output_type": "execute_result"
    }
   ],
   "source": [
    "train_score = []; test_score = []\n",
    "para_split = [n_split*1 for n_split in range(2,21)]\n",
    "\n",
    "for v_min_samples_split in para_split:\n",
    "    rf = RandomForestClassifier(random_state = 1234, n_estimators = 100, max_depth = 16,\n",
    "                              min_samples_split = v_min_samples_split)\n",
    "    rf.fit(train_n_x,train_n_y)\n",
    "    train_score.append(rf.score(train_n_x,train_n_y))\n",
    "    test_score.append(rf.score(test_n_x, test_n_y))\n",
    "\n",
    "df_score_split = pd.DataFrame()\n",
    "df_score_split[\"MinSamplesSplit\"] = para_split\n",
    "df_score_split[\"TrainScore\"] = train_score\n",
    "df_score_split[\"Validationscore\"] = test_score\n",
    "df_score_split.round(3)"
   ]
  },
  {
   "cell_type": "code",
   "execution_count": 32,
   "metadata": {},
   "outputs": [
    {
     "data": {
      "text/plain": [
       "<matplotlib.legend.Legend at 0x7f596b33c630>"
      ]
     },
     "execution_count": 32,
     "metadata": {},
     "output_type": "execute_result"
    },
    {
     "data": {
      "image/png": "[encoded data removed]",
      "text/plain": [
       "<Figure size 432x288 with 1 Axes>"
      ]
     },
     "metadata": {
      "needs_background": "light"
     },
     "output_type": "display_data"
    }
   ],
   "source": [
    "plt.plot(para_split, train_score, linestyle = \"-\", label = \"Train Score\")\n",
    "plt.plot(para_split, test_score, linestyle = \"--\", label = \"Validation Score\")\n",
    "plt.legend()"
   ]
  },
  {
   "cell_type": "code",
   "execution_count": 33,
   "metadata": {},
   "outputs": [
    {
     "data": {
      "text/html": [
       "<div>\n",
       "<style scoped>\n",
       "    .dataframe tbody tr th:only-of-type {\n",
       "        vertical-align: middle;\n",
       "    }\n",
       "\n",
       "    .dataframe tbody tr th {\n",
       "        vertical-align: top;\n",
       "    }\n",
       "\n",
       "    .dataframe thead th {\n",
       "        text-align: right;\n",
       "    }\n",
       "</style>\n",
       "<table border=\"1\" class=\"dataframe\">\n",
       "  <thead>\n",
       "    <tr style=\"text-align: right;\">\n",
       "      <th></th>\n",
       "      <th>MinSamplesLeaf</th>\n",
       "      <th>TrainScore</th>\n",
       "      <th>Validationcore</th>\n",
       "    </tr>\n",
       "  </thead>\n",
       "  <tbody>\n",
       "    <tr>\n",
       "      <th>0</th>\n",
       "      <td>1</td>\n",
       "      <td>0.999</td>\n",
       "      <td>0.652</td>\n",
       "    </tr>\n",
       "    <tr>\n",
       "      <th>1</th>\n",
       "      <td>2</td>\n",
       "      <td>0.990</td>\n",
       "      <td>0.567</td>\n",
       "    </tr>\n",
       "    <tr>\n",
       "      <th>2</th>\n",
       "      <td>3</td>\n",
       "      <td>0.982</td>\n",
       "      <td>0.615</td>\n",
       "    </tr>\n",
       "    <tr>\n",
       "      <th>3</th>\n",
       "      <td>4</td>\n",
       "      <td>0.970</td>\n",
       "      <td>0.615</td>\n",
       "    </tr>\n",
       "    <tr>\n",
       "      <th>4</th>\n",
       "      <td>5</td>\n",
       "      <td>0.944</td>\n",
       "      <td>0.638</td>\n",
       "    </tr>\n",
       "    <tr>\n",
       "      <th>5</th>\n",
       "      <td>6</td>\n",
       "      <td>0.922</td>\n",
       "      <td>0.666</td>\n",
       "    </tr>\n",
       "    <tr>\n",
       "      <th>6</th>\n",
       "      <td>7</td>\n",
       "      <td>0.886</td>\n",
       "      <td>0.673</td>\n",
       "    </tr>\n",
       "    <tr>\n",
       "      <th>7</th>\n",
       "      <td>8</td>\n",
       "      <td>0.859</td>\n",
       "      <td>0.670</td>\n",
       "    </tr>\n",
       "    <tr>\n",
       "      <th>8</th>\n",
       "      <td>9</td>\n",
       "      <td>0.848</td>\n",
       "      <td>0.697</td>\n",
       "    </tr>\n",
       "    <tr>\n",
       "      <th>9</th>\n",
       "      <td>10</td>\n",
       "      <td>0.820</td>\n",
       "      <td>0.660</td>\n",
       "    </tr>\n",
       "    <tr>\n",
       "      <th>10</th>\n",
       "      <td>11</td>\n",
       "      <td>0.795</td>\n",
       "      <td>0.697</td>\n",
       "    </tr>\n",
       "    <tr>\n",
       "      <th>11</th>\n",
       "      <td>12</td>\n",
       "      <td>0.796</td>\n",
       "      <td>0.703</td>\n",
       "    </tr>\n",
       "    <tr>\n",
       "      <th>12</th>\n",
       "      <td>13</td>\n",
       "      <td>0.783</td>\n",
       "      <td>0.707</td>\n",
       "    </tr>\n",
       "    <tr>\n",
       "      <th>13</th>\n",
       "      <td>14</td>\n",
       "      <td>0.776</td>\n",
       "      <td>0.701</td>\n",
       "    </tr>\n",
       "    <tr>\n",
       "      <th>14</th>\n",
       "      <td>15</td>\n",
       "      <td>0.767</td>\n",
       "      <td>0.687</td>\n",
       "    </tr>\n",
       "    <tr>\n",
       "      <th>15</th>\n",
       "      <td>16</td>\n",
       "      <td>0.764</td>\n",
       "      <td>0.703</td>\n",
       "    </tr>\n",
       "    <tr>\n",
       "      <th>16</th>\n",
       "      <td>17</td>\n",
       "      <td>0.756</td>\n",
       "      <td>0.702</td>\n",
       "    </tr>\n",
       "    <tr>\n",
       "      <th>17</th>\n",
       "      <td>18</td>\n",
       "      <td>0.760</td>\n",
       "      <td>0.691</td>\n",
       "    </tr>\n",
       "    <tr>\n",
       "      <th>18</th>\n",
       "      <td>19</td>\n",
       "      <td>0.754</td>\n",
       "      <td>0.710</td>\n",
       "    </tr>\n",
       "    <tr>\n",
       "      <th>19</th>\n",
       "      <td>20</td>\n",
       "      <td>0.754</td>\n",
       "      <td>0.708</td>\n",
       "    </tr>\n",
       "  </tbody>\n",
       "</table>\n",
       "</div>"
      ],
      "text/plain": [
       "    MinSamplesLeaf  TrainScore  Validationcore\n",
       "0                1       0.999           0.652\n",
       "1                2       0.990           0.567\n",
       "2                3       0.982           0.615\n",
       "3                4       0.970           0.615\n",
       "4                5       0.944           0.638\n",
       "5                6       0.922           0.666\n",
       "6                7       0.886           0.673\n",
       "7                8       0.859           0.670\n",
       "8                9       0.848           0.697\n",
       "9               10       0.820           0.660\n",
       "10              11       0.795           0.697\n",
       "11              12       0.796           0.703\n",
       "12              13       0.783           0.707\n",
       "13              14       0.776           0.701\n",
       "14              15       0.767           0.687\n",
       "15              16       0.764           0.703\n",
       "16              17       0.756           0.702\n",
       "17              18       0.760           0.691\n",
       "18              19       0.754           0.710\n",
       "19              20       0.754           0.708"
      ]
     },
     "execution_count": 33,
     "metadata": {},
     "output_type": "execute_result"
    }
   ],
   "source": [
    "train_score = []; test_score = []\n",
    "para_leaf = [n_leaf*1 for n_leaf in range(1,21)]\n",
    "\n",
    "for v_min_samples_leaf in para_leaf:\n",
    "    rf = RandomForestClassifier(random_state = 1234, n_estimators = 70, \n",
    "                                max_depth = 14, min_samples_split = 2,min_samples_leaf = v_min_samples_leaf)\n",
    "    rf.fit(red_sp_x, red_sp_y)\n",
    "    train_score.append(rf.score(red_sp_x, red_sp_y))\n",
    "    test_score.append(rf.score(test_s_x, test_y))\n",
    "\n",
    "df_score_leaf = pd.DataFrame()\n",
    "df_score_leaf[\"MinSamplesLeaf\"] = para_leaf\n",
    "df_score_leaf[\"TrainScore\"] = train_score\n",
    "df_score_leaf[\"Validationcore\"] = test_score\n",
    "df_score_leaf.round(3)"
   ]
  },
  {
   "cell_type": "code",
   "execution_count": 34,
   "metadata": {},
   "outputs": [
    {
     "data": {
      "text/plain": [
       "<matplotlib.legend.Legend at 0x7f596b2b2c50>"
      ]
     },
     "execution_count": 34,
     "metadata": {},
     "output_type": "execute_result"
    },
    {
     "data": {
      "image/png": "[encoded data removed]",
      "text/plain": [
       "<Figure size 432x288 with 1 Axes>"
      ]
     },
     "metadata": {
      "needs_background": "light"
     },
     "output_type": "display_data"
    }
   ],
   "source": [
    "plt.plot(para_leaf, train_score, linestyle = \"-\", label = \"Train Score\")\n",
    "plt.plot(para_leaf, test_score, linestyle = \"--\", label = \"Validation Score\")\n",
    "plt.ylabel(\"score\"); plt.xlabel(\"min samples leaf\")\n",
    "plt.legend()"
   ]
  },
  {
   "cell_type": "code",
   "execution_count": 35,
   "metadata": {},
   "outputs": [],
   "source": [
    "rf = RandomForestClassifier(random_state = 1234,n_estimators = 70, max_depth = 14)\n",
    "rf.fit(train_n_x, train_n_y) # 최종모델 형성\n",
    "rf_pred = rf.predict(test_n_x)"
   ]
  },
  {
   "cell_type": "code",
   "execution_count": 36,
   "metadata": {},
   "outputs": [
    {
     "name": "stdout",
     "output_type": "stream",
     "text": [
      "Random Forest: 92.24806201550388 %\n"
     ]
    }
   ],
   "source": [
    "print('Random Forest:', accuracy_score(test_n_y, rf_pred)*100,'%')"
   ]
  },
  {
   "cell_type": "code",
   "execution_count": 37,
   "metadata": {},
   "outputs": [
    {
     "name": "stdout",
     "output_type": "stream",
     "text": [
      "[[ 10   0   0   0   0]\n",
      " [  0  24   0   0   0]\n",
      " [  0   4 153   8   0]\n",
      " [  0   0   8  48   0]\n",
      " [  0   0   0   0   3]]\n"
     ]
    }
   ],
   "source": [
    "print(confusion_matrix(test_n_y, rf_pred))"
   ]
  },
  {
   "cell_type": "code",
   "execution_count": 38,
   "metadata": {},
   "outputs": [
    {
     "name": "stdout",
     "output_type": "stream",
     "text": [
      "              precision    recall  f1-score   support\n",
      "\n",
      "     class 3       1.00      1.00      1.00        10\n",
      "     class 4       0.86      1.00      0.92        24\n",
      "     class 5       0.95      0.93      0.94       165\n",
      "     class 6       0.86      0.86      0.86        56\n",
      "     class 7       1.00      1.00      1.00         3\n",
      "\n",
      "    accuracy                           0.92       258\n",
      "   macro avg       0.93      0.96      0.94       258\n",
      "weighted avg       0.92      0.92      0.92       258\n",
      "\n"
     ]
    }
   ],
   "source": [
    "print(classification_report(test_n_y, rf_pred, target_names=['class 3', 'class 4', 'class 5', 'class 6', 'class 7']))"
   ]
  },
  {
   "cell_type": "code",
   "execution_count": 24,
   "metadata": {},
   "outputs": [],
   "source": [
    "rf = RandomForestClassifier(random_state = 123,n_estimators = 150, max_depth = 16)\n",
    "rf.fit(train_n_x, train_n_y) # 최종모델 형성\n",
    "rf_pred = rf.predict(test_s_x)"
   ]
  },
  {
   "cell_type": "code",
   "execution_count": 25,
   "metadata": {},
   "outputs": [
    {
     "name": "stdout",
     "output_type": "stream",
     "text": [
      "Random Forest: 91.6145181476846 %\n",
      "[[  3   0   1   0   0]\n",
      " [  0  26   2   0   0]\n",
      " [  0  15 610  33   0]\n",
      " [  0   0   8  86   0]\n",
      " [  0   0   0   8   7]]\n"
     ]
    }
   ],
   "source": [
    "print('Random Forest:', accuracy_score(test_y, rf_pred)*100,'%')\n",
    "print(confusion_matrix(test_y, rf_pred))"
   ]
  },
  {
   "cell_type": "code",
   "execution_count": 66,
   "metadata": {},
   "outputs": [
    {
     "name": "stdout",
     "output_type": "stream",
     "text": [
      "              precision    recall  f1-score   support\n",
      "\n",
      "     class 3       0.11      0.25      0.15         4\n",
      "     class 4       0.29      0.71      0.41        28\n",
      "     class 5       0.95      0.81      0.87       658\n",
      "     class 6       0.51      0.78      0.62        94\n",
      "     class 7       0.33      0.33      0.33        15\n",
      "\n",
      "    accuracy                           0.79       799\n",
      "   macro avg       0.44      0.58      0.48       799\n",
      "weighted avg       0.86      0.79      0.81       799\n",
      "\n",
      "              precision    recall  f1-score   support\n",
      "\n",
      "     class 3       1.00      1.00      1.00         4\n",
      "     class 4       0.68      0.96      0.79        28\n",
      "     class 5       0.98      0.94      0.96       658\n",
      "     class 6       0.73      0.87      0.79        94\n",
      "     class 7       1.00      0.73      0.85        15\n",
      "\n",
      "    accuracy                           0.93       799\n",
      "   macro avg       0.88      0.90      0.88       799\n",
      "weighted avg       0.94      0.93      0.93       799\n",
      "\n",
      "              precision    recall  f1-score   support\n",
      "\n",
      "     class 3       0.12      0.25      0.17         4\n",
      "     class 4       0.26      0.86      0.40        28\n",
      "     class 5       0.94      0.79      0.86       658\n",
      "     class 6       0.47      0.67      0.55        94\n",
      "     class 7       0.38      0.20      0.26        15\n",
      "\n",
      "    accuracy                           0.76       799\n",
      "   macro avg       0.43      0.55      0.45       799\n",
      "weighted avg       0.84      0.76      0.79       799\n",
      "\n",
      "              precision    recall  f1-score   support\n",
      "\n",
      "     class 3       0.14      0.25      0.18         4\n",
      "     class 4       0.14      0.68      0.23        28\n",
      "     class 5       0.94      0.63      0.75       658\n",
      "     class 6       0.35      0.74      0.47        94\n",
      "     class 7       0.14      0.13      0.14        15\n",
      "\n",
      "    accuracy                           0.63       799\n",
      "   macro avg       0.34      0.49      0.35       799\n",
      "weighted avg       0.82      0.63      0.69       799\n",
      "\n",
      "              precision    recall  f1-score   support\n",
      "\n",
      "     class 3       0.00      0.00      0.00         4\n",
      "     class 4       0.43      0.68      0.53        28\n",
      "     class 5       0.92      0.89      0.91       658\n",
      "     class 6       0.51      0.65      0.57        94\n",
      "     class 7       0.00      0.00      0.00        15\n",
      "\n",
      "    accuracy                           0.83       799\n",
      "   macro avg       0.37      0.44      0.40       799\n",
      "weighted avg       0.84      0.83      0.83       799\n",
      "\n"
     ]
    },
    {
     "name": "stderr",
     "output_type": "stream",
     "text": [
      "/home/pirl/anaconda3/lib/python3.7/site-packages/sklearn/metrics/classification.py:1437: UndefinedMetricWarning: Precision and F-score are ill-defined and being set to 0.0 in labels with no predicted samples.\n",
      "  'precision', 'predicted', average, warn_for)\n",
      "/home/pirl/anaconda3/lib/python3.7/site-packages/sklearn/metrics/classification.py:1437: UndefinedMetricWarning: Precision and F-score are ill-defined and being set to 0.0 in labels with no predicted samples.\n",
      "  'precision', 'predicted', average, warn_for)\n",
      "/home/pirl/anaconda3/lib/python3.7/site-packages/sklearn/metrics/classification.py:1437: UndefinedMetricWarning: Precision and F-score are ill-defined and being set to 0.0 in labels with no predicted samples.\n",
      "  'precision', 'predicted', average, warn_for)\n"
     ]
    }
   ],
   "source": [
    "from sklearn.metrics import classification_report\n",
    "print(classification_report(test_y, tree_pred, target_names=['class 3', 'class 4', 'class 5', 'class 6', 'class 7']))\n",
    "print(classification_report(test_y, rf_pred, target_names=['class 3', 'class 4', 'class 5', 'class 6', 'class 7']))\n",
    "print(classification_report(test_y, KN_pred, target_names=['class 3', 'class 4', 'class 5', 'class 6', 'class 7']))\n",
    "print(classification_report(test_y, Gaussian_pred, target_names=['class 3', 'class 4', 'class 5', 'class 6', 'class 7']))\n",
    "print(classification_report(test_y, svc_pred, target_names=['class 3', 'class 4', 'class 5', 'class 6', 'class 7']))"
   ]
  },
  {
   "cell_type": "code",
   "execution_count": 42,
   "metadata": {},
   "outputs": [
    {
     "data": {
      "text/html": [
       "<div>\n",
       "<style scoped>\n",
       "    .dataframe tbody tr th:only-of-type {\n",
       "        vertical-align: middle;\n",
       "    }\n",
       "\n",
       "    .dataframe tbody tr th {\n",
       "        vertical-align: top;\n",
       "    }\n",
       "\n",
       "    .dataframe thead th {\n",
       "        text-align: right;\n",
       "    }\n",
       "</style>\n",
       "<table border=\"1\" class=\"dataframe\">\n",
       "  <thead>\n",
       "    <tr style=\"text-align: right;\">\n",
       "      <th></th>\n",
       "      <th>fixed acidity</th>\n",
       "      <th>volatile acidity</th>\n",
       "      <th>citric acid</th>\n",
       "      <th>residual sugar</th>\n",
       "      <th>chlorides</th>\n",
       "      <th>free sulfur dioxide</th>\n",
       "      <th>total sulfur dioxide</th>\n",
       "      <th>density</th>\n",
       "      <th>pH</th>\n",
       "      <th>sulphates</th>\n",
       "      <th>alcohol</th>\n",
       "    </tr>\n",
       "  </thead>\n",
       "  <tbody>\n",
       "    <tr>\n",
       "      <th>count</th>\n",
       "      <td>1286.000000</td>\n",
       "      <td>1286.000000</td>\n",
       "      <td>1286.000000</td>\n",
       "      <td>1286.000000</td>\n",
       "      <td>1286.000000</td>\n",
       "      <td>1286.000000</td>\n",
       "      <td>1286.000000</td>\n",
       "      <td>1286.000000</td>\n",
       "      <td>1286.000000</td>\n",
       "      <td>1286.000000</td>\n",
       "      <td>1286.000000</td>\n",
       "    </tr>\n",
       "    <tr>\n",
       "      <th>mean</th>\n",
       "      <td>8.349456</td>\n",
       "      <td>0.538414</td>\n",
       "      <td>0.271135</td>\n",
       "      <td>2.612753</td>\n",
       "      <td>0.085647</td>\n",
       "      <td>15.012830</td>\n",
       "      <td>42.972395</td>\n",
       "      <td>0.996670</td>\n",
       "      <td>3.318243</td>\n",
       "      <td>0.659005</td>\n",
       "      <td>10.520581</td>\n",
       "    </tr>\n",
       "    <tr>\n",
       "      <th>std</th>\n",
       "      <td>1.809240</td>\n",
       "      <td>0.201212</td>\n",
       "      <td>0.202153</td>\n",
       "      <td>1.569334</td>\n",
       "      <td>0.041828</td>\n",
       "      <td>10.365745</td>\n",
       "      <td>32.633530</td>\n",
       "      <td>0.001943</td>\n",
       "      <td>0.156810</td>\n",
       "      <td>0.165322</td>\n",
       "      <td>1.103382</td>\n",
       "    </tr>\n",
       "    <tr>\n",
       "      <th>min</th>\n",
       "      <td>4.600000</td>\n",
       "      <td>0.120000</td>\n",
       "      <td>0.000000</td>\n",
       "      <td>0.900000</td>\n",
       "      <td>0.012000</td>\n",
       "      <td>1.000000</td>\n",
       "      <td>6.000000</td>\n",
       "      <td>0.990070</td>\n",
       "      <td>2.870000</td>\n",
       "      <td>0.330000</td>\n",
       "      <td>8.400000</td>\n",
       "    </tr>\n",
       "    <tr>\n",
       "      <th>25%</th>\n",
       "      <td>7.100000</td>\n",
       "      <td>0.390000</td>\n",
       "      <td>0.080000</td>\n",
       "      <td>1.900000</td>\n",
       "      <td>0.068000</td>\n",
       "      <td>7.000000</td>\n",
       "      <td>19.000000</td>\n",
       "      <td>0.995460</td>\n",
       "      <td>3.210000</td>\n",
       "      <td>0.550000</td>\n",
       "      <td>9.600000</td>\n",
       "    </tr>\n",
       "    <tr>\n",
       "      <th>50%</th>\n",
       "      <td>7.900000</td>\n",
       "      <td>0.520000</td>\n",
       "      <td>0.260000</td>\n",
       "      <td>2.200000</td>\n",
       "      <td>0.078000</td>\n",
       "      <td>12.000000</td>\n",
       "      <td>34.000000</td>\n",
       "      <td>0.996665</td>\n",
       "      <td>3.320000</td>\n",
       "      <td>0.620000</td>\n",
       "      <td>10.300000</td>\n",
       "    </tr>\n",
       "    <tr>\n",
       "      <th>75%</th>\n",
       "      <td>9.300000</td>\n",
       "      <td>0.648750</td>\n",
       "      <td>0.440000</td>\n",
       "      <td>2.600000</td>\n",
       "      <td>0.090000</td>\n",
       "      <td>21.000000</td>\n",
       "      <td>55.000000</td>\n",
       "      <td>0.997800</td>\n",
       "      <td>3.410000</td>\n",
       "      <td>0.740000</td>\n",
       "      <td>11.200000</td>\n",
       "    </tr>\n",
       "    <tr>\n",
       "      <th>max</th>\n",
       "      <td>15.600000</td>\n",
       "      <td>1.580000</td>\n",
       "      <td>0.780000</td>\n",
       "      <td>15.500000</td>\n",
       "      <td>0.467000</td>\n",
       "      <td>72.000000</td>\n",
       "      <td>289.000000</td>\n",
       "      <td>1.003690</td>\n",
       "      <td>3.900000</td>\n",
       "      <td>1.980000</td>\n",
       "      <td>14.000000</td>\n",
       "    </tr>\n",
       "  </tbody>\n",
       "</table>\n",
       "</div>"
      ],
      "text/plain": [
       "       fixed acidity  volatile acidity  citric acid  residual sugar  \\\n",
       "count    1286.000000       1286.000000  1286.000000     1286.000000   \n",
       "mean        8.349456          0.538414     0.271135        2.612753   \n",
       "std         1.809240          0.201212     0.202153        1.569334   \n",
       "min         4.600000          0.120000     0.000000        0.900000   \n",
       "25%         7.100000          0.390000     0.080000        1.900000   \n",
       "50%         7.900000          0.520000     0.260000        2.200000   \n",
       "75%         9.300000          0.648750     0.440000        2.600000   \n",
       "max        15.600000          1.580000     0.780000       15.500000   \n",
       "\n",
       "         chlorides  free sulfur dioxide  total sulfur dioxide      density  \\\n",
       "count  1286.000000          1286.000000           1286.000000  1286.000000   \n",
       "mean      0.085647            15.012830             42.972395     0.996670   \n",
       "std       0.041828            10.365745             32.633530     0.001943   \n",
       "min       0.012000             1.000000              6.000000     0.990070   \n",
       "25%       0.068000             7.000000             19.000000     0.995460   \n",
       "50%       0.078000            12.000000             34.000000     0.996665   \n",
       "75%       0.090000            21.000000             55.000000     0.997800   \n",
       "max       0.467000            72.000000            289.000000     1.003690   \n",
       "\n",
       "                pH    sulphates      alcohol  \n",
       "count  1286.000000  1286.000000  1286.000000  \n",
       "mean      3.318243     0.659005    10.520581  \n",
       "std       0.156810     0.165322     1.103382  \n",
       "min       2.870000     0.330000     8.400000  \n",
       "25%       3.210000     0.550000     9.600000  \n",
       "50%       3.320000     0.620000    10.300000  \n",
       "75%       3.410000     0.740000    11.200000  \n",
       "max       3.900000     1.980000    14.000000  "
      ]
     },
     "execution_count": 42,
     "metadata": {},
     "output_type": "execute_result"
    }
   ],
   "source": [
    "red_sp_x.describe()"
   ]
  },
  {
   "cell_type": "code",
   "execution_count": 69,
   "metadata": {},
   "outputs": [],
   "source": [
    "model = ['DescisionTree', 'RandomForest', 'KNN', 'GaussianNB', 'SVC']\n",
    "col = ['Accuracy', 'Precision','Recall', 'F1Score']"
   ]
  },
  {
   "cell_type": "code",
   "execution_count": 79,
   "metadata": {},
   "outputs": [],
   "source": [
    "df_eval = pd.DataFrame(index = model)"
   ]
  },
  {
   "cell_type": "code",
   "execution_count": 97,
   "metadata": {},
   "outputs": [],
   "source": [
    "Accuracy = pd.Series([80, 94, 77, 64, 83], index = model)\n",
    "Precision = pd.Series([86, 94, 84, 82, 84], index = model)\n",
    "Recall = pd.Series([79, 93, 76, 63, 83], index = model)\n",
    "F1Score = pd.Series([81, 94, 79, 69, 83], index= model)"
   ]
  },
  {
   "cell_type": "code",
   "execution_count": 98,
   "metadata": {},
   "outputs": [],
   "source": [
    "df_eval['Accuracy']=Accuracy\n",
    "df_eval['Precision']=Precision\n",
    "df_eval['Recall']=Recall\n",
    "df_eval['F1Score']=F1Score"
   ]
  },
  {
   "cell_type": "code",
   "execution_count": 111,
   "metadata": {},
   "outputs": [
    {
     "data": {
      "image/png": "[encoded data removed]",
      "text/plain": [
       "<Figure size 1080x720 with 1 Axes>"
      ]
     },
     "metadata": {
      "needs_background": "light"
     },
     "output_type": "display_data"
    }
   ],
   "source": [
    "df_eval.plot.bar(rot=0, figsize = (15,10), width = 0.7, fontsize = 20)\n",
    "plt.legend(loc = \"upper right\")\n",
    "plt.grid(axis=\"y\")"
   ]
  },
  {
   "cell_type": "code",
   "execution_count": 26,
   "metadata": {},
   "outputs": [
    {
     "data": {
      "text/html": [
       "<div>\n",
       "<style scoped>\n",
       "    .dataframe tbody tr th:only-of-type {\n",
       "        vertical-align: middle;\n",
       "    }\n",
       "\n",
       "    .dataframe tbody tr th {\n",
       "        vertical-align: top;\n",
       "    }\n",
       "\n",
       "    .dataframe thead th {\n",
       "        text-align: right;\n",
       "    }\n",
       "</style>\n",
       "<table border=\"1\" class=\"dataframe\">\n",
       "  <thead>\n",
       "    <tr style=\"text-align: right;\">\n",
       "      <th></th>\n",
       "      <th>Feature</th>\n",
       "      <th>Importance</th>\n",
       "    </tr>\n",
       "  </thead>\n",
       "  <tbody>\n",
       "    <tr>\n",
       "      <th>1</th>\n",
       "      <td>volatile acidity</td>\n",
       "      <td>0.141</td>\n",
       "    </tr>\n",
       "    <tr>\n",
       "      <th>10</th>\n",
       "      <td>alcohol</td>\n",
       "      <td>0.133</td>\n",
       "    </tr>\n",
       "    <tr>\n",
       "      <th>9</th>\n",
       "      <td>sulphates</td>\n",
       "      <td>0.111</td>\n",
       "    </tr>\n",
       "    <tr>\n",
       "      <th>6</th>\n",
       "      <td>total sulfur dioxide</td>\n",
       "      <td>0.098</td>\n",
       "    </tr>\n",
       "    <tr>\n",
       "      <th>2</th>\n",
       "      <td>citric acid</td>\n",
       "      <td>0.085</td>\n",
       "    </tr>\n",
       "    <tr>\n",
       "      <th>7</th>\n",
       "      <td>density</td>\n",
       "      <td>0.077</td>\n",
       "    </tr>\n",
       "    <tr>\n",
       "      <th>4</th>\n",
       "      <td>chlorides</td>\n",
       "      <td>0.075</td>\n",
       "    </tr>\n",
       "    <tr>\n",
       "      <th>0</th>\n",
       "      <td>fixed acidity</td>\n",
       "      <td>0.074</td>\n",
       "    </tr>\n",
       "    <tr>\n",
       "      <th>3</th>\n",
       "      <td>residual sugar</td>\n",
       "      <td>0.073</td>\n",
       "    </tr>\n",
       "    <tr>\n",
       "      <th>8</th>\n",
       "      <td>pH</td>\n",
       "      <td>0.073</td>\n",
       "    </tr>\n",
       "    <tr>\n",
       "      <th>5</th>\n",
       "      <td>free sulfur dioxide</td>\n",
       "      <td>0.060</td>\n",
       "    </tr>\n",
       "  </tbody>\n",
       "</table>\n",
       "</div>"
      ],
      "text/plain": [
       "                 Feature  Importance\n",
       "1       volatile acidity       0.141\n",
       "10               alcohol       0.133\n",
       "9              sulphates       0.111\n",
       "6   total sulfur dioxide       0.098\n",
       "2            citric acid       0.085\n",
       "7                density       0.077\n",
       "4              chlorides       0.075\n",
       "0          fixed acidity       0.074\n",
       "3         residual sugar       0.073\n",
       "8                     pH       0.073\n",
       "5    free sulfur dioxide       0.060"
      ]
     },
     "execution_count": 26,
     "metadata": {},
     "output_type": "execute_result"
    }
   ],
   "source": [
    "v_feature_name = train_x.columns\n",
    "df_importance = pd.DataFrame()\n",
    "df_importance[\"Feature\"] = v_feature_name\n",
    "df_importance[\"Importance\"] = rf.feature_importances_\n",
    "df_importance.sort_values(\"Importance\", ascending = False, inplace = True)\n",
    "df_importance.round(3)"
   ]
  },
  {
   "cell_type": "code",
   "execution_count": 29,
   "metadata": {},
   "outputs": [
    {
     "data": {
      "text/plain": [
       "Text(0, 0.5, '변수')"
      ]
     },
     "execution_count": 29,
     "metadata": {},
     "output_type": "execute_result"
    },
    {
     "data": {
      "image/png": "[encoded data removed]",
      "text/plain": [
       "<Figure size 576x576 with 1 Axes>"
      ]
     },
     "metadata": {
      "needs_background": "light"
     },
     "output_type": "display_data"
    }
   ],
   "source": [
    "import matplotlib as mpl\n",
    "import matplotlib.pyplot as plt\n",
    "path = '/usr/share/fonts/truetype/nanum/NanumBarunGothic.ttf'\n",
    "import matplotlib.font_manager as fm\n",
    "mpl.rc(\"font\", family = \"NanumBarunGothic\")\n",
    "plt.rcParams.update({'font.size': 22})\n",
    "df_importance.sort_values(\"Importance\", ascending = True, inplace = True)\n",
    "coordinates = range(len(df_importance))\n",
    "plt.figure(figsize=(8,8))\n",
    "plt.barh(y = coordinates, width = df_importance[\"Importance\"], color = ['r','b'])\n",
    "plt.yticks(coordinates, df_importance[\"Feature\"])\n",
    "plt.xlabel(\"변수중요도\")\n",
    "plt.ylabel(\"변수\")"
   ]
  },
  {
   "cell_type": "code",
   "execution_count": null,
   "metadata": {},
   "outputs": [],
   "source": []
  }
 ],
 "metadata": {
  "kernelspec": {
   "display_name": "Python 3",
   "language": "python",
   "name": "python3"
  },
  "language_info": {
   "codemirror_mode": {
    "name": "ipython",
    "version": 3
   },
   "file_extension": ".py",
   "mimetype": "text/x-python",
   "name": "python",
   "nbconvert_exporter": "python",
   "pygments_lexer": "ipython3",
   "version": "3.7.3"
  }
 },
 "nbformat": 4,
 "nbformat_minor": 2
}
