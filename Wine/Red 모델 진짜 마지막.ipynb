{
 "cells": [
  {
   "cell_type": "code",
   "execution_count": 84,
   "metadata": {},
   "outputs": [
    {
     "name": "stdout",
     "output_type": "stream",
     "text": [
      "품질 등급: [6]\n"
     ]
    }
   ],
   "source": [
    "import numpy as np \n",
    "import pandas as pd\n",
    "from sklearn.model_selection import train_test_split\n",
    "from sklearn.metrics import confusion_matrix, log_loss\n",
    "from sklearn.preprocessing import StandardScaler\n",
    "from sklearn.metrics import mean_squared_error\n",
    "from sklearn.metrics import classification_report\n",
    "from sklearn.metrics import confusion_matrix\n",
    "from sklearn.metrics import accuracy_score\n",
    "from sklearn.ensemble import RandomForestClassifier\n",
    "from sklearn.ensemble import RandomForestClassifier\n",
    "\n",
    "red = pd.read_csv('/home/pirl/test/Wine data/wine_quality_r_s.csv')\n",
    "red = red.drop('Unnamed: 0',1)\n",
    "\n",
    "quality_mapping = {3:3, 4:4, 5:5, 6:5, 7:6, 8:7}\n",
    "red['quality'] = red['quality'].map(quality_mapping)\n",
    "\n",
    "red_x = red.drop('quality',1)\n",
    "red_y = red['quality']\n",
    "\n",
    "for cur_feat in red_x.columns:\n",
    "    if cur_feat == 'citric acid':\n",
    "        red_x[cur_feat] += 1\n",
    "    red_x[cur_feat] = np.log(red_x[cur_feat])\n",
    "    \n",
    "red_h = red[red['quality']>=6]\n",
    "red_m = red[(red['quality']<6)&(red['quality']>4)]\n",
    "red_l = red[red['quality']<=4]\n",
    "\n",
    "red_l2 = pd.concat([red_l,red_l,red_l])\n",
    "red_m = red_m.sample(800)\n",
    "red_h2 = pd.concat([red_h,red_h])\n",
    "red_h2 = red_h2.sample(300)\n",
    "red_sp = pd.concat([red_l2,red_m,red_h2])\n",
    "\n",
    "red_sp_x = red_sp.drop('quality',1)\n",
    "red_sp_y = red_sp['quality']\n",
    "\n",
    "# v_feature_name = red_sp_x.columns\n",
    "# scaler = StandardScaler()\n",
    "# red_sp_s_x = scaler.fit_transform(red_sp_x)\n",
    "# red_sp_s_x = pd.DataFrame(red_sp_s_x, columns=v_feature_name)\n",
    "# red_sp_s_x.head()\n",
    "\n",
    "train_n_x, test_n_x, train_n_y, test_n_y = train_test_split(red_sp_x, red_sp_y, test_size = 0.2,\n",
    "                                                                random_state =1234)\n",
    "train_x, test_x, train_y, test_y = train_test_split(red_x, red_y, test_size = 0.5,\n",
    "                                                                random_state =1234)\n",
    "\n",
    "# v_feature_name = train_x.columns\n",
    "# scaler = StandardScaler()\n",
    "# test_s_x = scaler.fit_transform(test_x)\n",
    "# test_s_x = pd.DataFrame(test_s_x, columns=v_feature_name)\n",
    "# test_s_x.head()\n",
    "\n",
    "rf = RandomForestClassifier(random_state = 42,n_estimators = 100, max_depth = 16)\n",
    "rf.fit(train_n_x, train_n_y) # 최종모델 형성\n",
    "rf_pred = rf.predict(test_x)\n",
    "\n",
    "aList=[[7, 1, 4, 17, 15, 66, 280, 1, 3, 80, 17]]\n",
    "\n",
    "#aList = pd.DataFrame(list(map(int,input(\"구성성분 수치를 입력하세요:\").split()))).T\n",
    "aList =np.log(aList)\n",
    "print(\"품질 등급:\",rf.predict(aList))"
   ]
  },
  {
   "cell_type": "code",
   "execution_count": null,
   "metadata": {},
   "outputs": [],
   "source": [
    "import pickle\n",
    "\n",
    "with pickle\n",
    "\n",
    "pickle.load"
   ]
  },
  {
   "cell_type": "code",
   "execution_count": null,
   "metadata": {},
   "outputs": [],
   "source": []
  },
  {
   "cell_type": "code",
   "execution_count": 105,
   "metadata": {},
   "outputs": [
    {
     "name": "stdout",
     "output_type": "stream",
     "text": [
      "품질 등급: [6]\n"
     ]
    }
   ],
   "source": [
    "rf_pred = rf.predict(test_x)\n",
    "\n",
    "aList=[[7, 1, 4, 17, 15, 66, 280, 1, 3, 80, 17]]\n",
    "\n",
    "#aList = pd.DataFrame(list(map(int,input(\"구성성분 수치를 입력하세요:\").split()))).T\n",
    "aList =np.log(aList)\n",
    "print(\"품질 등급:\",rf.predict(aList))"
   ]
  },
  {
   "cell_type": "code",
   "execution_count": null,
   "metadata": {},
   "outputs": [],
   "source": []
  }
 ],
 "metadata": {
  "kernelspec": {
   "display_name": "Python 3",
   "language": "python",
   "name": "python3"
  },
  "language_info": {
   "codemirror_mode": {
    "name": "ipython",
    "version": 3
   },
   "file_extension": ".py",
   "mimetype": "text/x-python",
   "name": "python",
   "nbconvert_exporter": "python",
   "pygments_lexer": "ipython3",
   "version": "3.7.3"
  }
 },
 "nbformat": 4,
 "nbformat_minor": 2
}
