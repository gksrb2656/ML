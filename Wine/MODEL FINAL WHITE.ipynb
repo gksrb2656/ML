{
 "cells": [
  {
   "cell_type": "code",
   "execution_count": 2,
   "metadata": {},
   "outputs": [
    {
     "name": "stderr",
     "output_type": "stream",
     "text": [
      "/home/pirl/anaconda3/lib/python3.7/site-packages/ipykernel_launcher.py:20: RuntimeWarning: divide by zero encountered in log\n"
     ]
    },
    {
     "data": {
      "text/plain": [
       "RandomForestClassifier(bootstrap=True, class_weight=None, criterion='gini',\n",
       "                       max_depth=20, max_features='auto', max_leaf_nodes=None,\n",
       "                       min_impurity_decrease=0.0, min_impurity_split=None,\n",
       "                       min_samples_leaf=1, min_samples_split=2,\n",
       "                       min_weight_fraction_leaf=0.0, n_estimators=300,\n",
       "                       n_jobs=None, oob_score=False, random_state=20, verbose=0,\n",
       "                       warm_start=False)"
      ]
     },
     "execution_count": 2,
     "metadata": {},
     "output_type": "execute_result"
    }
   ],
   "source": [
    "import numpy as np \n",
    "import pandas as pd\n",
    "from sklearn.model_selection import train_test_split\n",
    "from sklearn.metrics import confusion_matrix, log_loss\n",
    "from sklearn.preprocessing import StandardScaler\n",
    "from sklearn.metrics import mean_squared_error\n",
    "from sklearn.metrics import classification_report\n",
    "from sklearn.metrics import confusion_matrix\n",
    "from sklearn.metrics import accuracy_score\n",
    "from sklearn.ensemble import RandomForestClassifier\n",
    "\n",
    "white = pd.read_csv('/home/pirl/test/Wine data/wine_quality_w_s.csv')\n",
    "white = white.drop('Unnamed: 0',1)\n",
    "white_x = white.drop('quality',1)\n",
    "white_y = white['quality']\n",
    "\n",
    "for cur_feat in white_x.columns:\n",
    "    if cur_feat == 'density':\n",
    "        white_x[cur_feat] += 1\n",
    "    white_x[cur_feat] = np.log(white_x[cur_feat])\n",
    "\n",
    "quality_mapping = {3:3, 4:4, 5:5, 6:5, 7:6, 8:7, 9:7}\n",
    "white['quality'] = white['quality'].map(quality_mapping)\n",
    "\n",
    "white_h = white[white['quality']>=7]\n",
    "white_m = white[(white['quality']<7)&(white['quality']>4)]\n",
    "white_l = white[white['quality']<=4]\n",
    "\n",
    "white_l2 = pd.concat([white_l,white_l,white_l])\n",
    "white_m = white_m.sample(1800)\n",
    "\n",
    "white_sp = pd.concat([white_l2, white_m, white_h])\n",
    "white_sp_x = white_sp.drop('quality',1)\n",
    "white_sp_y = white_sp['quality']\n",
    "\n",
    "# v_feature_name = white_sp_x.columns\n",
    "# scaler = StandardScaler()\n",
    "# white_sp_s_x = scaler.fit_transform(white_sp_x)\n",
    "# white_sp_s_x = pd.DataFrame(white_sp_s_x, columns=v_feature_name)\n",
    "# white_sp_s_x.head()\n",
    "\n",
    "train_n_x, test_n_x, train_n_y, test_n_y = train_test_split(white_sp_x, white_sp_y, test_size = 0.2,\n",
    "                                                                random_state =42)\n",
    "\n",
    "white_x = white.drop('quality',1)\n",
    "white_y = white['quality']\n",
    "\n",
    "train_x, test_x, train_y, test_y = train_test_split(white_x, white_y, test_size = 0.5,\n",
    "                                                                random_state =42)\n",
    "\n",
    "# v_feature_name = train_x.columns\n",
    "# scaler = StandardScaler()\n",
    "# test_s_x = scaler.fit_transform(test_x)\n",
    "# test_s_x = pd.DataFrame(test_s_x, columns=v_feature_name)\n",
    "# test_s_x.head()\n",
    "\n",
    "rf = RandomForestClassifier(random_state = 20, n_estimators = 300, \n",
    "                                max_depth = 20, min_samples_split = 2)\n",
    "rf.fit(train_n_x, train_n_y) # 최종모델 형성"
   ]
  },
  {
   "cell_type": "code",
   "execution_count": null,
   "metadata": {},
   "outputs": [],
   "source": []
  }
 ],
 "metadata": {
  "kernelspec": {
   "display_name": "Python 3",
   "language": "python",
   "name": "python3"
  },
  "language_info": {
   "codemirror_mode": {
    "name": "ipython",
    "version": 3
   },
   "file_extension": ".py",
   "mimetype": "text/x-python",
   "name": "python",
   "nbconvert_exporter": "python",
   "pygments_lexer": "ipython3",
   "version": "3.7.3"
  }
 },
 "nbformat": 4,
 "nbformat_minor": 2
}
